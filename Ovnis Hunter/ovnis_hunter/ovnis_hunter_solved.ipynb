{
 "cells": [
  {
   "cell_type": "markdown",
   "metadata": {},
   "source": [
    "# Caçador de OVNIs"
   ]
  },
  {
   "cell_type": "markdown",
   "metadata": {},
   "source": [
    "Em que estado e horário é mais \"fácil\" de avistar um OVNI nos EUA?"
   ]
  },
  {
   "cell_type": "markdown",
   "metadata": {},
   "source": [
    "### Importando o que importa"
   ]
  },
  {
   "cell_type": "code",
   "execution_count": 2,
   "metadata": {
    "ExecuteTime": {
     "end_time": "2023-07-07T00:26:46.862567753Z",
     "start_time": "2023-07-07T00:26:46.314604829Z"
    }
   },
   "outputs": [],
   "source": [
    "import pandas as pd\n",
    "import matplotlib.pyplot as plt\n",
    "\n",
    "import warnings\n",
    "warnings.simplefilter(action='ignore')"
   ]
  },
  {
   "cell_type": "markdown",
   "metadata": {},
   "source": [
    "### Lendo o arquivo com todas as ocorrências"
   ]
  },
  {
   "cell_type": "code",
   "execution_count": 3,
   "metadata": {
    "ExecuteTime": {
     "end_time": "2023-07-07T00:29:36.531721527Z",
     "start_time": "2023-07-07T00:29:17.064145733Z"
    }
   },
   "outputs": [],
   "source": [
    "df = pd.read_json('ovins.json')"
   ]
  },
  {
   "cell_type": "code",
   "execution_count": 4,
   "metadata": {},
   "outputs": [
    {
     "data": {
      "text/plain": [
       "pandas.core.frame.DataFrame"
      ]
     },
     "execution_count": 4,
     "metadata": {},
     "output_type": "execute_result"
    }
   ],
   "source": [
    "type(df)"
   ]
  },
  {
   "cell_type": "markdown",
   "metadata": {},
   "source": [
    "### Visualizando uma amostra dos dados"
   ]
  },
  {
   "cell_type": "code",
   "execution_count": 5,
   "metadata": {
    "ExecuteTime": {
     "end_time": "2023-07-07T00:29:53.117114243Z",
     "start_time": "2023-07-07T00:29:53.098164262Z"
    }
   },
   "outputs": [
    {
     "data": {
      "text/html": [
       "<div>\n",
       "<style scoped>\n",
       "    .dataframe tbody tr th:only-of-type {\n",
       "        vertical-align: middle;\n",
       "    }\n",
       "\n",
       "    .dataframe tbody tr th {\n",
       "        vertical-align: top;\n",
       "    }\n",
       "\n",
       "    .dataframe thead th {\n",
       "        text-align: right;\n",
       "    }\n",
       "</style>\n",
       "<table border=\"1\" class=\"dataframe\">\n",
       "  <thead>\n",
       "    <tr style=\"text-align: right;\">\n",
       "      <th></th>\n",
       "      <th>link</th>\n",
       "      <th>date</th>\n",
       "      <th>city</th>\n",
       "      <th>state</th>\n",
       "      <th>country</th>\n",
       "      <th>shape</th>\n",
       "      <th>duration</th>\n",
       "      <th>summary</th>\n",
       "      <th>posted</th>\n",
       "      <th>images</th>\n",
       "    </tr>\n",
       "  </thead>\n",
       "  <tbody>\n",
       "    <tr>\n",
       "      <th>0</th>\n",
       "      <td>https://www.nuforc.org/webreports/ndxe202307.html</td>\n",
       "      <td>2023-07-29 17:45:00</td>\n",
       "      <td>Malang</td>\n",
       "      <td>East Java</td>\n",
       "      <td>Indonesia</td>\n",
       "      <td>Light</td>\n",
       "      <td>Still there as at 8:30pm</td>\n",
       "      <td>Green flashing (and moving) lights</td>\n",
       "      <td>7/29/23</td>\n",
       "      <td>None</td>\n",
       "    </tr>\n",
       "    <tr>\n",
       "      <th>1</th>\n",
       "      <td>https://www.nuforc.org/webreports/ndxe202307.html</td>\n",
       "      <td>2023-07-29 11:20:00</td>\n",
       "      <td>Riverview</td>\n",
       "      <td>FL</td>\n",
       "      <td>USA</td>\n",
       "      <td>Unknown</td>\n",
       "      <td>11:21</td>\n",
       "      <td>.001/ 9 screen shot clip of fly by</td>\n",
       "      <td>7/29/23</td>\n",
       "      <td>Yes</td>\n",
       "    </tr>\n",
       "  </tbody>\n",
       "</table>\n",
       "</div>"
      ],
      "text/plain": [
       "                                                link                date  \\\n",
       "0  https://www.nuforc.org/webreports/ndxe202307.html 2023-07-29 17:45:00   \n",
       "1  https://www.nuforc.org/webreports/ndxe202307.html 2023-07-29 11:20:00   \n",
       "\n",
       "        city      state    country    shape                  duration  \\\n",
       "0     Malang  East Java  Indonesia    Light  Still there as at 8:30pm   \n",
       "1  Riverview         FL        USA  Unknown                     11:21   \n",
       "\n",
       "                              summary   posted images  \n",
       "0  Green flashing (and moving) lights  7/29/23   None  \n",
       "1  .001/ 9 screen shot clip of fly by  7/29/23    Yes  "
      ]
     },
     "execution_count": 5,
     "metadata": {},
     "output_type": "execute_result"
    }
   ],
   "source": [
    "df.head(2)"
   ]
  },
  {
   "cell_type": "markdown",
   "metadata": {},
   "source": [
    "### Renomeando as colunas"
   ]
  },
  {
   "cell_type": "code",
   "execution_count": 6,
   "metadata": {
    "ExecuteTime": {
     "end_time": "2023-07-06T13:38:56.353712485Z",
     "start_time": "2023-07-06T13:38:56.349308350Z"
    }
   },
   "outputs": [
    {
     "data": {
      "text/html": [
       "<div>\n",
       "<style scoped>\n",
       "    .dataframe tbody tr th:only-of-type {\n",
       "        vertical-align: middle;\n",
       "    }\n",
       "\n",
       "    .dataframe tbody tr th {\n",
       "        vertical-align: top;\n",
       "    }\n",
       "\n",
       "    .dataframe thead th {\n",
       "        text-align: right;\n",
       "    }\n",
       "</style>\n",
       "<table border=\"1\" class=\"dataframe\">\n",
       "  <thead>\n",
       "    <tr style=\"text-align: right;\">\n",
       "      <th></th>\n",
       "      <th>link</th>\n",
       "      <th>data</th>\n",
       "      <th>cidade</th>\n",
       "      <th>estado</th>\n",
       "      <th>pais</th>\n",
       "      <th>forma</th>\n",
       "      <th>duracao</th>\n",
       "      <th>relato</th>\n",
       "      <th>postado</th>\n",
       "      <th>imagens</th>\n",
       "    </tr>\n",
       "  </thead>\n",
       "  <tbody>\n",
       "    <tr>\n",
       "      <th>0</th>\n",
       "      <td>https://www.nuforc.org/webreports/ndxe202307.html</td>\n",
       "      <td>2023-07-29 17:45:00</td>\n",
       "      <td>Malang</td>\n",
       "      <td>East Java</td>\n",
       "      <td>Indonesia</td>\n",
       "      <td>Light</td>\n",
       "      <td>Still there as at 8:30pm</td>\n",
       "      <td>Green flashing (and moving) lights</td>\n",
       "      <td>7/29/23</td>\n",
       "      <td>None</td>\n",
       "    </tr>\n",
       "    <tr>\n",
       "      <th>1</th>\n",
       "      <td>https://www.nuforc.org/webreports/ndxe202307.html</td>\n",
       "      <td>2023-07-29 11:20:00</td>\n",
       "      <td>Riverview</td>\n",
       "      <td>FL</td>\n",
       "      <td>USA</td>\n",
       "      <td>Unknown</td>\n",
       "      <td>11:21</td>\n",
       "      <td>.001/ 9 screen shot clip of fly by</td>\n",
       "      <td>7/29/23</td>\n",
       "      <td>Yes</td>\n",
       "    </tr>\n",
       "  </tbody>\n",
       "</table>\n",
       "</div>"
      ],
      "text/plain": [
       "                                                link                data  \\\n",
       "0  https://www.nuforc.org/webreports/ndxe202307.html 2023-07-29 17:45:00   \n",
       "1  https://www.nuforc.org/webreports/ndxe202307.html 2023-07-29 11:20:00   \n",
       "\n",
       "      cidade     estado       pais    forma                   duracao  \\\n",
       "0     Malang  East Java  Indonesia    Light  Still there as at 8:30pm   \n",
       "1  Riverview         FL        USA  Unknown                     11:21   \n",
       "\n",
       "                               relato  postado imagens  \n",
       "0  Green flashing (and moving) lights  7/29/23    None  \n",
       "1  .001/ 9 screen shot clip of fly by  7/29/23     Yes  "
      ]
     },
     "execution_count": 6,
     "metadata": {},
     "output_type": "execute_result"
    }
   ],
   "source": [
    "df.columns = ['link', 'data', 'cidade', 'estado', 'pais', 'forma', 'duracao', 'relato', 'postado', 'imagens']\n",
    "df.head(2)"
   ]
  },
  {
   "cell_type": "code",
   "execution_count": 7,
   "metadata": {
    "ExecuteTime": {
     "end_time": "2023-07-06T13:39:55.084205878Z",
     "start_time": "2023-07-06T13:39:55.042213886Z"
    },
    "collapsed": false,
    "jupyter": {
     "outputs_hidden": false
    },
    "scrolled": true
   },
   "outputs": [
    {
     "data": {
      "text/html": [
       "<div>\n",
       "<style scoped>\n",
       "    .dataframe tbody tr th:only-of-type {\n",
       "        vertical-align: middle;\n",
       "    }\n",
       "\n",
       "    .dataframe tbody tr th {\n",
       "        vertical-align: top;\n",
       "    }\n",
       "\n",
       "    .dataframe thead th {\n",
       "        text-align: right;\n",
       "    }\n",
       "</style>\n",
       "<table border=\"1\" class=\"dataframe\">\n",
       "  <thead>\n",
       "    <tr style=\"text-align: right;\">\n",
       "      <th></th>\n",
       "      <th>link</th>\n",
       "      <th>data</th>\n",
       "      <th>cidade</th>\n",
       "      <th>estado</th>\n",
       "      <th>pais</th>\n",
       "      <th>forma</th>\n",
       "      <th>duracao</th>\n",
       "      <th>relato</th>\n",
       "      <th>postado</th>\n",
       "      <th>imagens</th>\n",
       "    </tr>\n",
       "  </thead>\n",
       "  <tbody>\n",
       "    <tr>\n",
       "      <th>5726</th>\n",
       "      <td>https://www.nuforc.org/webreports/ndxe201707.html</td>\n",
       "      <td>2017-07-04 22:00:00</td>\n",
       "      <td>Franklin Square</td>\n",
       "      <td>NY</td>\n",
       "      <td>USA</td>\n",
       "      <td>Sphere</td>\n",
       "      <td>10 minutes</td>\n",
       "      <td>Six UFO's in one night, five on video!</td>\n",
       "      <td>7/7/17</td>\n",
       "      <td>None</td>\n",
       "    </tr>\n",
       "    <tr>\n",
       "      <th>5727</th>\n",
       "      <td>https://www.nuforc.org/webreports/ndxe201707.html</td>\n",
       "      <td>2017-07-04 22:00:00</td>\n",
       "      <td>Buchanan</td>\n",
       "      <td>MI</td>\n",
       "      <td>USA</td>\n",
       "      <td>Circle</td>\n",
       "      <td>4 minutes</td>\n",
       "      <td>2 round crafts, least 100yds each in diameter ...</td>\n",
       "      <td>12/14/18</td>\n",
       "      <td>None</td>\n",
       "    </tr>\n",
       "  </tbody>\n",
       "</table>\n",
       "</div>"
      ],
      "text/plain": [
       "                                                   link                data  \\\n",
       "5726  https://www.nuforc.org/webreports/ndxe201707.html 2017-07-04 22:00:00   \n",
       "5727  https://www.nuforc.org/webreports/ndxe201707.html 2017-07-04 22:00:00   \n",
       "\n",
       "               cidade estado pais   forma     duracao  \\\n",
       "5726  Franklin Square     NY  USA  Sphere  10 minutes   \n",
       "5727         Buchanan     MI  USA  Circle   4 minutes   \n",
       "\n",
       "                                                 relato   postado imagens  \n",
       "5726             Six UFO's in one night, five on video!    7/7/17    None  \n",
       "5727  2 round crafts, least 100yds each in diameter ...  12/14/18    None  "
      ]
     },
     "execution_count": 7,
     "metadata": {},
     "output_type": "execute_result"
    }
   ],
   "source": [
    "df.tail(2)"
   ]
  },
  {
   "cell_type": "code",
   "execution_count": 8,
   "metadata": {},
   "outputs": [
    {
     "name": "stdout",
     "output_type": "stream",
     "text": [
      "(5728, 10)\n",
      "(5561, 10)\n"
     ]
    }
   ],
   "source": [
    "df_dropped_forma = df.dropna(subset = ['forma'])\n",
    "\n",
    "print(df.shape)\n",
    "print(df_dropped_forma.shape)\n"
   ]
  },
  {
   "cell_type": "markdown",
   "metadata": {},
   "source": [
    "### Convertendo uma coluna com datas de <code>string</code> para <code>datetime</code>"
   ]
  },
  {
   "cell_type": "code",
   "execution_count": 9,
   "metadata": {
    "ExecuteTime": {
     "end_time": "2023-07-06T13:40:08.340686451Z",
     "start_time": "2023-07-06T13:40:08.293810711Z"
    }
   },
   "outputs": [],
   "source": [
    "df['data'] = pd.to_datetime(df['data'])"
   ]
  },
  {
   "cell_type": "code",
   "execution_count": 10,
   "metadata": {
    "ExecuteTime": {
     "end_time": "2023-07-06T13:40:10.096010270Z",
     "start_time": "2023-07-06T13:40:10.092396310Z"
    }
   },
   "outputs": [
    {
     "data": {
      "text/html": [
       "<div>\n",
       "<style scoped>\n",
       "    .dataframe tbody tr th:only-of-type {\n",
       "        vertical-align: middle;\n",
       "    }\n",
       "\n",
       "    .dataframe tbody tr th {\n",
       "        vertical-align: top;\n",
       "    }\n",
       "\n",
       "    .dataframe thead th {\n",
       "        text-align: right;\n",
       "    }\n",
       "</style>\n",
       "<table border=\"1\" class=\"dataframe\">\n",
       "  <thead>\n",
       "    <tr style=\"text-align: right;\">\n",
       "      <th></th>\n",
       "      <th>link</th>\n",
       "      <th>data</th>\n",
       "      <th>cidade</th>\n",
       "      <th>estado</th>\n",
       "      <th>pais</th>\n",
       "      <th>forma</th>\n",
       "      <th>duracao</th>\n",
       "      <th>relato</th>\n",
       "      <th>postado</th>\n",
       "      <th>imagens</th>\n",
       "    </tr>\n",
       "  </thead>\n",
       "  <tbody>\n",
       "    <tr>\n",
       "      <th>0</th>\n",
       "      <td>https://www.nuforc.org/webreports/ndxe202307.html</td>\n",
       "      <td>2023-07-29 17:45:00</td>\n",
       "      <td>Malang</td>\n",
       "      <td>East Java</td>\n",
       "      <td>Indonesia</td>\n",
       "      <td>Light</td>\n",
       "      <td>Still there as at 8:30pm</td>\n",
       "      <td>Green flashing (and moving) lights</td>\n",
       "      <td>7/29/23</td>\n",
       "      <td>None</td>\n",
       "    </tr>\n",
       "    <tr>\n",
       "      <th>1</th>\n",
       "      <td>https://www.nuforc.org/webreports/ndxe202307.html</td>\n",
       "      <td>2023-07-29 11:20:00</td>\n",
       "      <td>Riverview</td>\n",
       "      <td>FL</td>\n",
       "      <td>USA</td>\n",
       "      <td>Unknown</td>\n",
       "      <td>11:21</td>\n",
       "      <td>.001/ 9 screen shot clip of fly by</td>\n",
       "      <td>7/29/23</td>\n",
       "      <td>Yes</td>\n",
       "    </tr>\n",
       "  </tbody>\n",
       "</table>\n",
       "</div>"
      ],
      "text/plain": [
       "                                                link                data  \\\n",
       "0  https://www.nuforc.org/webreports/ndxe202307.html 2023-07-29 17:45:00   \n",
       "1  https://www.nuforc.org/webreports/ndxe202307.html 2023-07-29 11:20:00   \n",
       "\n",
       "      cidade     estado       pais    forma                   duracao  \\\n",
       "0     Malang  East Java  Indonesia    Light  Still there as at 8:30pm   \n",
       "1  Riverview         FL        USA  Unknown                     11:21   \n",
       "\n",
       "                               relato  postado imagens  \n",
       "0  Green flashing (and moving) lights  7/29/23    None  \n",
       "1  .001/ 9 screen shot clip of fly by  7/29/23     Yes  "
      ]
     },
     "execution_count": 10,
     "metadata": {},
     "output_type": "execute_result"
    }
   ],
   "source": [
    "df.head(2)"
   ]
  },
  {
   "cell_type": "markdown",
   "metadata": {},
   "source": [
    "### Limpando os relatos com dados faltantes"
   ]
  },
  {
   "cell_type": "code",
   "execution_count": 11,
   "metadata": {
    "ExecuteTime": {
     "end_time": "2023-07-06T13:40:49.860737358Z",
     "start_time": "2023-07-06T13:40:49.819019250Z"
    }
   },
   "outputs": [],
   "source": [
    "df_dropped = df.dropna(subset = ['forma'])"
   ]
  },
  {
   "cell_type": "code",
   "execution_count": 12,
   "metadata": {
    "ExecuteTime": {
     "end_time": "2023-07-06T13:40:51.827035584Z",
     "start_time": "2023-07-06T13:40:51.821621384Z"
    }
   },
   "outputs": [
    {
     "data": {
      "text/plain": [
       "(5561, 10)"
      ]
     },
     "execution_count": 12,
     "metadata": {},
     "output_type": "execute_result"
    }
   ],
   "source": [
    "df_dropped.shape"
   ]
  },
  {
   "cell_type": "markdown",
   "metadata": {},
   "source": [
    "### Agrupando os resultados por estado"
   ]
  },
  {
   "cell_type": "code",
   "execution_count": 13,
   "metadata": {
    "ExecuteTime": {
     "end_time": "2023-07-06T13:41:23.027463313Z",
     "start_time": "2023-07-06T13:41:22.986785648Z"
    }
   },
   "outputs": [],
   "source": [
    "ocorrencias_por_estado = df_dropped.groupby('estado')['data'].count()"
   ]
  },
  {
   "cell_type": "code",
   "execution_count": 14,
   "metadata": {
    "ExecuteTime": {
     "end_time": "2023-07-06T13:41:25.218598642Z",
     "start_time": "2023-07-06T13:41:25.215563369Z"
    }
   },
   "outputs": [],
   "source": [
    "ocorrencias_por_estado.sort_values(ascending=False, inplace=True)"
   ]
  },
  {
   "cell_type": "markdown",
   "metadata": {},
   "source": [
    "### Plotando os 10 estados com mais ocorrências"
   ]
  },
  {
   "cell_type": "code",
   "execution_count": 15,
   "metadata": {},
   "outputs": [
    {
     "data": {
      "text/plain": [
       "count     95.000000\n",
       "mean      56.589474\n",
       "std       90.825938\n",
       "min        1.000000\n",
       "25%        1.000000\n",
       "50%       24.000000\n",
       "75%       80.500000\n",
       "max      655.000000\n",
       "Name: data, dtype: float64"
      ]
     },
     "execution_count": 15,
     "metadata": {},
     "output_type": "execute_result"
    }
   ],
   "source": [
    "ocorrencias_por_estado.describe()"
   ]
  },
  {
   "cell_type": "code",
   "execution_count": 16,
   "metadata": {
    "ExecuteTime": {
     "end_time": "2023-07-06T13:41:31.108256943Z",
     "start_time": "2023-07-06T13:41:30.708560459Z"
    }
   },
   "outputs": [
    {
     "data": {
      "text/plain": [
       "<Axes: xlabel='estado'>"
      ]
     },
     "execution_count": 16,
     "metadata": {},
     "output_type": "execute_result"
    },
    {
     "data": {
      "image/png": "[encoded data removed]",
      "text/plain": [
       "<Figure size 640x480 with 1 Axes>"
      ]
     },
     "metadata": {},
     "output_type": "display_data"
    }
   ],
   "source": [
    "ocorrencias_por_estado.head(10).plot.bar(rot=45)"
   ]
  },
  {
   "cell_type": "markdown",
   "metadata": {},
   "source": [
    "### Extraindo um <code>subset</code> com somente com os dados da Califórnia"
   ]
  },
  {
   "cell_type": "code",
   "execution_count": 17,
   "metadata": {
    "ExecuteTime": {
     "end_time": "2023-07-06T13:41:40.550725968Z",
     "start_time": "2023-07-06T13:41:40.508465780Z"
    }
   },
   "outputs": [],
   "source": [
    "selector = df_dropped['estado'] == \"CA\""
   ]
  },
  {
   "cell_type": "code",
   "execution_count": 18,
   "metadata": {
    "ExecuteTime": {
     "end_time": "2023-07-06T13:41:44.961910450Z",
     "start_time": "2023-07-06T13:41:44.952389671Z"
    }
   },
   "outputs": [],
   "source": [
    "california = df_dropped[selector]"
   ]
  },
  {
   "cell_type": "code",
   "execution_count": 19,
   "metadata": {
    "ExecuteTime": {
     "end_time": "2023-07-06T13:41:46.493523216Z",
     "start_time": "2023-07-06T13:41:46.489994102Z"
    }
   },
   "outputs": [
    {
     "data": {
      "text/html": [
       "<div>\n",
       "<style scoped>\n",
       "    .dataframe tbody tr th:only-of-type {\n",
       "        vertical-align: middle;\n",
       "    }\n",
       "\n",
       "    .dataframe tbody tr th {\n",
       "        vertical-align: top;\n",
       "    }\n",
       "\n",
       "    .dataframe thead th {\n",
       "        text-align: right;\n",
       "    }\n",
       "</style>\n",
       "<table border=\"1\" class=\"dataframe\">\n",
       "  <thead>\n",
       "    <tr style=\"text-align: right;\">\n",
       "      <th></th>\n",
       "      <th>link</th>\n",
       "      <th>data</th>\n",
       "      <th>cidade</th>\n",
       "      <th>estado</th>\n",
       "      <th>pais</th>\n",
       "      <th>forma</th>\n",
       "      <th>duracao</th>\n",
       "      <th>relato</th>\n",
       "      <th>postado</th>\n",
       "      <th>imagens</th>\n",
       "    </tr>\n",
       "  </thead>\n",
       "  <tbody>\n",
       "    <tr>\n",
       "      <th>9</th>\n",
       "      <td>https://www.nuforc.org/webreports/ndxe202307.html</td>\n",
       "      <td>2023-07-27 23:05:00</td>\n",
       "      <td>san francisco</td>\n",
       "      <td>CA</td>\n",
       "      <td>USA</td>\n",
       "      <td>Light</td>\n",
       "      <td>45 seconds</td>\n",
       "      <td>I saw a blue light moving through the foggy ev...</td>\n",
       "      <td>7/29/23</td>\n",
       "      <td>None</td>\n",
       "    </tr>\n",
       "    <tr>\n",
       "      <th>15</th>\n",
       "      <td>https://www.nuforc.org/webreports/ndxe202307.html</td>\n",
       "      <td>2023-07-27 13:00:00</td>\n",
       "      <td>Rancho Cucamonga</td>\n",
       "      <td>CA</td>\n",
       "      <td>USA</td>\n",
       "      <td>Oval</td>\n",
       "      <td>7 seconds</td>\n",
       "      <td>Silent, silver shape moving faster than airplane</td>\n",
       "      <td>7/29/23</td>\n",
       "      <td>None</td>\n",
       "    </tr>\n",
       "  </tbody>\n",
       "</table>\n",
       "</div>"
      ],
      "text/plain": [
       "                                                 link                data  \\\n",
       "9   https://www.nuforc.org/webreports/ndxe202307.html 2023-07-27 23:05:00   \n",
       "15  https://www.nuforc.org/webreports/ndxe202307.html 2023-07-27 13:00:00   \n",
       "\n",
       "              cidade estado pais  forma     duracao  \\\n",
       "9      san francisco     CA  USA  Light  45 seconds   \n",
       "15  Rancho Cucamonga     CA  USA   Oval   7 seconds   \n",
       "\n",
       "                                               relato  postado imagens  \n",
       "9   I saw a blue light moving through the foggy ev...  7/29/23    None  \n",
       "15   Silent, silver shape moving faster than airplane  7/29/23    None  "
      ]
     },
     "execution_count": 19,
     "metadata": {},
     "output_type": "execute_result"
    }
   ],
   "source": [
    "california.head(2)"
   ]
  },
  {
   "cell_type": "markdown",
   "metadata": {},
   "source": [
    "### Extraindo a hora de cada ocorrência e adicionando em uma nova coluna"
   ]
  },
  {
   "cell_type": "code",
   "execution_count": 20,
   "metadata": {
    "ExecuteTime": {
     "end_time": "2023-07-06T13:42:00.922612031Z",
     "start_time": "2023-07-06T13:42:00.917494715Z"
    }
   },
   "outputs": [],
   "source": [
    "california['hora'] = california['data'].dt.hour"
   ]
  },
  {
   "cell_type": "markdown",
   "metadata": {},
   "source": [
    "### Plotando um <code>histograma</code> para examinar a distribuição de ocorrências"
   ]
  },
  {
   "cell_type": "code",
   "execution_count": 21,
   "metadata": {
    "ExecuteTime": {
     "end_time": "2023-07-06T13:42:04.028761396Z",
     "start_time": "2023-07-06T13:42:03.880992977Z"
    }
   },
   "outputs": [
    {
     "data": {
      "image/png": "[encoded data removed]",
      "text/plain": [
       "<Figure size 640x480 with 1 Axes>"
      ]
     },
     "metadata": {},
     "output_type": "display_data"
    }
   ],
   "source": [
    "hora_hist = california['hora'].plot.hist(bins=24, grid=True)\n",
    "plt.xticks(range(california['hora'].min(), california['hora'].max()+1, 1))\n",
    "plt.show()"
   ]
  },
  {
   "cell_type": "code",
   "execution_count": 22,
   "metadata": {},
   "outputs": [
    {
     "data": {
      "image/png": "[encoded data removed]",
      "text/plain": [
       "<Figure size 640x480 with 1 Axes>"
      ]
     },
     "metadata": {},
     "output_type": "display_data"
    }
   ],
   "source": [
    "plt.hist(california['hora'], bins=24, edgecolor='black')  # 'bins' define o número de barras\n",
    "plt.xlabel('Hora')\n",
    "plt.ylabel('Frequência')\n",
    "plt.title('Histograma de Horas')\n",
    "plt.show()"
   ]
  },
  {
   "cell_type": "markdown",
   "metadata": {},
   "source": [
    "# Desafio"
   ]
  },
  {
   "cell_type": "markdown",
   "metadata": {},
   "source": [
    "### Quais os 5 formatos de OVNI mais comuns nos relatos?"
   ]
  },
  {
   "cell_type": "code",
   "execution_count": 23,
   "metadata": {},
   "outputs": [],
   "source": [
    "df_dropped_bla = df_dropped[df_dropped['forma']!= \"Unknown\"]"
   ]
  },
  {
   "cell_type": "code",
   "execution_count": 24,
   "metadata": {},
   "outputs": [],
   "source": [
    "df_dropped_final = df_dropped_bla[df_dropped_bla['forma']!=\"Other\"]"
   ]
  },
  {
   "cell_type": "code",
   "execution_count": 25,
   "metadata": {},
   "outputs": [
    {
     "data": {
      "text/plain": [
       "forma\n",
       "Changing    185\n",
       "Chevron      80\n",
       "Name: forma, dtype: int64"
      ]
     },
     "execution_count": 25,
     "metadata": {},
     "output_type": "execute_result"
    }
   ],
   "source": [
    "# CODE\n",
    "forma = df_dropped_final.groupby('forma')['forma'].count()\n",
    "forma.head(2)"
   ]
  },
  {
   "cell_type": "code",
   "execution_count": 32,
   "metadata": {},
   "outputs": [],
   "source": [
    "forma_final = (df_dropped['forma'] != \"Unknown\") & (df_dropped['forma'] != \"Other\")"
   ]
  },
  {
   "cell_type": "code",
   "execution_count": 39,
   "metadata": {},
   "outputs": [
    {
     "data": {
      "text/plain": [
       "forma\n",
       "Light       1072\n",
       "Circle       639\n",
       "Triangle     432\n",
       "Orb          349\n",
       "Fireball     291\n",
       "Name: count, dtype: int64"
      ]
     },
     "execution_count": 39,
     "metadata": {},
     "output_type": "execute_result"
    }
   ],
   "source": [
    "df_dropped[forma_final].value_counts('forma').head()"
   ]
  },
  {
   "cell_type": "markdown",
   "metadata": {},
   "source": [
    "### Qual o horário mais difícil para avistarmos um OVNI em forma de Charuto?"
   ]
  },
  {
   "cell_type": "code",
   "execution_count": 50,
   "metadata": {
    "ExecuteTime": {
     "end_time": "2023-07-06T13:59:54.124405259Z",
     "start_time": "2023-07-06T13:59:54.113717191Z"
    }
   },
   "outputs": [],
   "source": [
    "# CODE\n",
    "df_dropped_charuto = df_dropped[df_dropped['forma'] == \"Cigar\"]\n",
    "df_dropped_charuto['hora'] = df_dropped_charuto['data'].dt.hour"
   ]
  },
  {
   "cell_type": "code",
   "execution_count": 51,
   "metadata": {},
   "outputs": [
    {
     "data": {
      "text/plain": [
       "hora\n",
       "9     2\n",
       "1     2\n",
       "6     3\n",
       "11    3\n",
       "0     4\n",
       "Name: count, dtype: int64"
      ]
     },
     "execution_count": 51,
     "metadata": {},
     "output_type": "execute_result"
    }
   ],
   "source": [
    "df_dropped_charuto.value_counts('hora').sort_values(ascending=True).head()"
   ]
  },
  {
   "cell_type": "markdown",
   "metadata": {
    "collapsed": false,
    "jupyter": {
     "outputs_hidden": false
    }
   },
   "source": [
    "# Wordcloud\n"
   ]
  },
  {
   "cell_type": "code",
   "execution_count": null,
   "metadata": {
    "ExecuteTime": {
     "end_time": "2023-07-06T14:00:42.318742388Z",
     "start_time": "2023-07-06T14:00:34.370414543Z"
    },
    "collapsed": false,
    "jupyter": {
     "outputs_hidden": false
    }
   },
   "outputs": [
    {
     "data": {
      "image/png": "[encoded data removed]",
      "text/plain": [
       "<Figure size 640x480 with 1 Axes>"
      ]
     },
     "metadata": {},
     "output_type": "display_data"
    }
   ],
   "source": [
    "from wordcloud import WordCloud, STOPWORDS\n",
    "\n",
    "# dropping nill\n",
    "relatos = df.relato.dropna()\n",
    "\n",
    "# combining summary\n",
    "text = \" \".join(review for review in relatos)\n",
    "\n",
    "# Create stopword list:\n",
    "stopwords = set(STOPWORDS)\n",
    "stopwords.update([\"saw\", \"looked\", \"nuforc\", \"seen\", \"disappeared\", \"hovering\"])\n",
    "\n",
    "# Generate a word cloud image\n",
    "wordcloud = WordCloud(stopwords=stopwords, background_color=\"black\").generate(text)\n",
    "\n",
    "# Display the generated image:\n",
    "# the matplotlib way:\n",
    "plt.imshow(wordcloud, interpolation='bilinear')\n",
    "plt.axis(\"off\")\n",
    "plt.show()"
   ]
  },
  {
   "cell_type": "code",
   "execution_count": null,
   "metadata": {},
   "outputs": [
    {
     "data": {
      "text/html": [
       "<div>\n",
       "<style scoped>\n",
       "    .dataframe tbody tr th:only-of-type {\n",
       "        vertical-align: middle;\n",
       "    }\n",
       "\n",
       "    .dataframe tbody tr th {\n",
       "        vertical-align: top;\n",
       "    }\n",
       "\n",
       "    .dataframe thead th {\n",
       "        text-align: right;\n",
       "    }\n",
       "</style>\n",
       "<table border=\"1\" class=\"dataframe\">\n",
       "  <thead>\n",
       "    <tr style=\"text-align: right;\">\n",
       "      <th></th>\n",
       "      <th>link</th>\n",
       "      <th>data</th>\n",
       "      <th>cidade</th>\n",
       "      <th>estado</th>\n",
       "      <th>pais</th>\n",
       "      <th>forma</th>\n",
       "      <th>duracao</th>\n",
       "      <th>relato</th>\n",
       "      <th>postado</th>\n",
       "      <th>imagens</th>\n",
       "    </tr>\n",
       "  </thead>\n",
       "  <tbody>\n",
       "    <tr>\n",
       "      <th>0</th>\n",
       "      <td>https://www.nuforc.org/webreports/ndxe202307.html</td>\n",
       "      <td>2023-07-29 17:45:00</td>\n",
       "      <td>Malang</td>\n",
       "      <td>East Java</td>\n",
       "      <td>Indonesia</td>\n",
       "      <td>Light</td>\n",
       "      <td>Still there as at 8:30pm</td>\n",
       "      <td>Green flashing (and moving) lights</td>\n",
       "      <td>7/29/23</td>\n",
       "      <td>None</td>\n",
       "    </tr>\n",
       "    <tr>\n",
       "      <th>1</th>\n",
       "      <td>https://www.nuforc.org/webreports/ndxe202307.html</td>\n",
       "      <td>2023-07-29 11:20:00</td>\n",
       "      <td>Riverview</td>\n",
       "      <td>FL</td>\n",
       "      <td>USA</td>\n",
       "      <td>Unknown</td>\n",
       "      <td>11:21</td>\n",
       "      <td>.001/ 9 screen shot clip of fly by</td>\n",
       "      <td>7/29/23</td>\n",
       "      <td>Yes</td>\n",
       "    </tr>\n",
       "    <tr>\n",
       "      <th>2</th>\n",
       "      <td>https://www.nuforc.org/webreports/ndxe202307.html</td>\n",
       "      <td>2023-07-29 02:30:00</td>\n",
       "      <td>Mallusk</td>\n",
       "      <td>Antrim and Newtownabbey</td>\n",
       "      <td>United Kingdom</td>\n",
       "      <td>Triangle</td>\n",
       "      <td>still current</td>\n",
       "      <td>A very bright light which moved closer. On the...</td>\n",
       "      <td>7/29/23</td>\n",
       "      <td>Yes</td>\n",
       "    </tr>\n",
       "    <tr>\n",
       "      <th>3</th>\n",
       "      <td>https://www.nuforc.org/webreports/ndxe202307.html</td>\n",
       "      <td>2023-07-29 00:20:00</td>\n",
       "      <td>Worksop</td>\n",
       "      <td>Nottinghamshire</td>\n",
       "      <td>United Kingdom</td>\n",
       "      <td>Disk</td>\n",
       "      <td>Around a minute.</td>\n",
       "      <td>Flying saucer with red lights.</td>\n",
       "      <td>7/29/23</td>\n",
       "      <td>None</td>\n",
       "    </tr>\n",
       "    <tr>\n",
       "      <th>4</th>\n",
       "      <td>https://www.nuforc.org/webreports/ndxe202307.html</td>\n",
       "      <td>2023-07-28 23:05:00</td>\n",
       "      <td>Gainesville</td>\n",
       "      <td>FL</td>\n",
       "      <td>USA</td>\n",
       "      <td>Light</td>\n",
       "      <td>No more than 10 seconds</td>\n",
       "      <td>After observing a Space X launch from 100+ mil...</td>\n",
       "      <td>7/29/23</td>\n",
       "      <td>None</td>\n",
       "    </tr>\n",
       "    <tr>\n",
       "      <th>...</th>\n",
       "      <td>...</td>\n",
       "      <td>...</td>\n",
       "      <td>...</td>\n",
       "      <td>...</td>\n",
       "      <td>...</td>\n",
       "      <td>...</td>\n",
       "      <td>...</td>\n",
       "      <td>...</td>\n",
       "      <td>...</td>\n",
       "      <td>...</td>\n",
       "    </tr>\n",
       "    <tr>\n",
       "      <th>5723</th>\n",
       "      <td>https://www.nuforc.org/webreports/ndxe201707.html</td>\n",
       "      <td>2017-07-04 22:00:00</td>\n",
       "      <td>Garden City Beach</td>\n",
       "      <td>SC</td>\n",
       "      <td>USA</td>\n",
       "      <td>Changing</td>\n",
       "      <td>30 minutes</td>\n",
       "      <td>While watching Murrells Inlet Fireworks, I wat...</td>\n",
       "      <td>7/7/17</td>\n",
       "      <td>None</td>\n",
       "    </tr>\n",
       "    <tr>\n",
       "      <th>5724</th>\n",
       "      <td>https://www.nuforc.org/webreports/ndxe201707.html</td>\n",
       "      <td>2017-07-04 22:00:00</td>\n",
       "      <td>Collinsville</td>\n",
       "      <td>OK</td>\n",
       "      <td>USA</td>\n",
       "      <td>Fireball</td>\n",
       "      <td>5-7 minutes</td>\n",
       "      <td>Watching fireworks at 9:30 on July 4, 2017.  I...</td>\n",
       "      <td>9/5/17</td>\n",
       "      <td>None</td>\n",
       "    </tr>\n",
       "    <tr>\n",
       "      <th>5725</th>\n",
       "      <td>https://www.nuforc.org/webreports/ndxe201707.html</td>\n",
       "      <td>2017-07-04 22:00:00</td>\n",
       "      <td>Versailles</td>\n",
       "      <td>KY</td>\n",
       "      <td>USA</td>\n",
       "      <td>Orb</td>\n",
       "      <td>5 minutes</td>\n",
       "      <td>Three reddish orbs, triangle formation, statio...</td>\n",
       "      <td>7/7/17</td>\n",
       "      <td>None</td>\n",
       "    </tr>\n",
       "    <tr>\n",
       "      <th>5726</th>\n",
       "      <td>https://www.nuforc.org/webreports/ndxe201707.html</td>\n",
       "      <td>2017-07-04 22:00:00</td>\n",
       "      <td>Franklin Square</td>\n",
       "      <td>NY</td>\n",
       "      <td>USA</td>\n",
       "      <td>Sphere</td>\n",
       "      <td>10 minutes</td>\n",
       "      <td>Six UFO's in one night, five on video!</td>\n",
       "      <td>7/7/17</td>\n",
       "      <td>None</td>\n",
       "    </tr>\n",
       "    <tr>\n",
       "      <th>5727</th>\n",
       "      <td>https://www.nuforc.org/webreports/ndxe201707.html</td>\n",
       "      <td>2017-07-04 22:00:00</td>\n",
       "      <td>Buchanan</td>\n",
       "      <td>MI</td>\n",
       "      <td>USA</td>\n",
       "      <td>Circle</td>\n",
       "      <td>4 minutes</td>\n",
       "      <td>2 round crafts, least 100yds each in diameter ...</td>\n",
       "      <td>12/14/18</td>\n",
       "      <td>None</td>\n",
       "    </tr>\n",
       "  </tbody>\n",
       "</table>\n",
       "<p>5728 rows × 10 columns</p>\n",
       "</div>"
      ],
      "text/plain": [
       "                                                   link                data  \\\n",
       "0     https://www.nuforc.org/webreports/ndxe202307.html 2023-07-29 17:45:00   \n",
       "1     https://www.nuforc.org/webreports/ndxe202307.html 2023-07-29 11:20:00   \n",
       "2     https://www.nuforc.org/webreports/ndxe202307.html 2023-07-29 02:30:00   \n",
       "3     https://www.nuforc.org/webreports/ndxe202307.html 2023-07-29 00:20:00   \n",
       "4     https://www.nuforc.org/webreports/ndxe202307.html 2023-07-28 23:05:00   \n",
       "...                                                 ...                 ...   \n",
       "5723  https://www.nuforc.org/webreports/ndxe201707.html 2017-07-04 22:00:00   \n",
       "5724  https://www.nuforc.org/webreports/ndxe201707.html 2017-07-04 22:00:00   \n",
       "5725  https://www.nuforc.org/webreports/ndxe201707.html 2017-07-04 22:00:00   \n",
       "5726  https://www.nuforc.org/webreports/ndxe201707.html 2017-07-04 22:00:00   \n",
       "5727  https://www.nuforc.org/webreports/ndxe201707.html 2017-07-04 22:00:00   \n",
       "\n",
       "                 cidade                   estado            pais     forma  \\\n",
       "0                Malang                East Java       Indonesia     Light   \n",
       "1             Riverview                       FL             USA   Unknown   \n",
       "2               Mallusk  Antrim and Newtownabbey  United Kingdom  Triangle   \n",
       "3               Worksop          Nottinghamshire  United Kingdom      Disk   \n",
       "4           Gainesville                       FL             USA     Light   \n",
       "...                 ...                      ...             ...       ...   \n",
       "5723  Garden City Beach                       SC             USA  Changing   \n",
       "5724       Collinsville                       OK             USA  Fireball   \n",
       "5725         Versailles                       KY             USA       Orb   \n",
       "5726    Franklin Square                       NY             USA    Sphere   \n",
       "5727           Buchanan                       MI             USA    Circle   \n",
       "\n",
       "                       duracao  \\\n",
       "0     Still there as at 8:30pm   \n",
       "1                        11:21   \n",
       "2                still current   \n",
       "3             Around a minute.   \n",
       "4      No more than 10 seconds   \n",
       "...                        ...   \n",
       "5723                30 minutes   \n",
       "5724               5-7 minutes   \n",
       "5725                 5 minutes   \n",
       "5726                10 minutes   \n",
       "5727                 4 minutes   \n",
       "\n",
       "                                                 relato   postado imagens  \n",
       "0                    Green flashing (and moving) lights   7/29/23    None  \n",
       "1                    .001/ 9 screen shot clip of fly by   7/29/23     Yes  \n",
       "2     A very bright light which moved closer. On the...   7/29/23     Yes  \n",
       "3                        Flying saucer with red lights.   7/29/23    None  \n",
       "4     After observing a Space X launch from 100+ mil...   7/29/23    None  \n",
       "...                                                 ...       ...     ...  \n",
       "5723  While watching Murrells Inlet Fireworks, I wat...    7/7/17    None  \n",
       "5724  Watching fireworks at 9:30 on July 4, 2017.  I...    9/5/17    None  \n",
       "5725  Three reddish orbs, triangle formation, statio...    7/7/17    None  \n",
       "5726             Six UFO's in one night, five on video!    7/7/17    None  \n",
       "5727  2 round crafts, least 100yds each in diameter ...  12/14/18    None  \n",
       "\n",
       "[5728 rows x 10 columns]"
      ]
     },
     "execution_count": 31,
     "metadata": {},
     "output_type": "execute_result"
    }
   ],
   "source": [
    "df.query(\"forma != None & imagens != None \")"
   ]
  },
  {
   "cell_type": "code",
   "execution_count": null,
   "metadata": {},
   "outputs": [],
   "source": [
    "\n",
    "filter_b = (df.forma != None) & (df.imagens != None)"
   ]
  },
  {
   "cell_type": "code",
   "execution_count": null,
   "metadata": {},
   "outputs": [
    {
     "data": {
      "text/html": [
       "<div>\n",
       "<style scoped>\n",
       "    .dataframe tbody tr th:only-of-type {\n",
       "        vertical-align: middle;\n",
       "    }\n",
       "\n",
       "    .dataframe tbody tr th {\n",
       "        vertical-align: top;\n",
       "    }\n",
       "\n",
       "    .dataframe thead th {\n",
       "        text-align: right;\n",
       "    }\n",
       "</style>\n",
       "<table border=\"1\" class=\"dataframe\">\n",
       "  <thead>\n",
       "    <tr style=\"text-align: right;\">\n",
       "      <th></th>\n",
       "      <th>link</th>\n",
       "      <th>data</th>\n",
       "      <th>cidade</th>\n",
       "      <th>estado</th>\n",
       "      <th>pais</th>\n",
       "      <th>forma</th>\n",
       "      <th>duracao</th>\n",
       "      <th>relato</th>\n",
       "      <th>postado</th>\n",
       "      <th>imagens</th>\n",
       "    </tr>\n",
       "  </thead>\n",
       "  <tbody>\n",
       "    <tr>\n",
       "      <th>0</th>\n",
       "      <td>https://www.nuforc.org/webreports/ndxe202307.html</td>\n",
       "      <td>2023-07-29 17:45:00</td>\n",
       "      <td>Malang</td>\n",
       "      <td>East Java</td>\n",
       "      <td>Indonesia</td>\n",
       "      <td>Light</td>\n",
       "      <td>Still there as at 8:30pm</td>\n",
       "      <td>Green flashing (and moving) lights</td>\n",
       "      <td>7/29/23</td>\n",
       "      <td>None</td>\n",
       "    </tr>\n",
       "    <tr>\n",
       "      <th>1</th>\n",
       "      <td>https://www.nuforc.org/webreports/ndxe202307.html</td>\n",
       "      <td>2023-07-29 11:20:00</td>\n",
       "      <td>Riverview</td>\n",
       "      <td>FL</td>\n",
       "      <td>USA</td>\n",
       "      <td>Unknown</td>\n",
       "      <td>11:21</td>\n",
       "      <td>.001/ 9 screen shot clip of fly by</td>\n",
       "      <td>7/29/23</td>\n",
       "      <td>Yes</td>\n",
       "    </tr>\n",
       "    <tr>\n",
       "      <th>2</th>\n",
       "      <td>https://www.nuforc.org/webreports/ndxe202307.html</td>\n",
       "      <td>2023-07-29 02:30:00</td>\n",
       "      <td>Mallusk</td>\n",
       "      <td>Antrim and Newtownabbey</td>\n",
       "      <td>United Kingdom</td>\n",
       "      <td>Triangle</td>\n",
       "      <td>still current</td>\n",
       "      <td>A very bright light which moved closer. On the...</td>\n",
       "      <td>7/29/23</td>\n",
       "      <td>Yes</td>\n",
       "    </tr>\n",
       "    <tr>\n",
       "      <th>3</th>\n",
       "      <td>https://www.nuforc.org/webreports/ndxe202307.html</td>\n",
       "      <td>2023-07-29 00:20:00</td>\n",
       "      <td>Worksop</td>\n",
       "      <td>Nottinghamshire</td>\n",
       "      <td>United Kingdom</td>\n",
       "      <td>Disk</td>\n",
       "      <td>Around a minute.</td>\n",
       "      <td>Flying saucer with red lights.</td>\n",
       "      <td>7/29/23</td>\n",
       "      <td>None</td>\n",
       "    </tr>\n",
       "    <tr>\n",
       "      <th>4</th>\n",
       "      <td>https://www.nuforc.org/webreports/ndxe202307.html</td>\n",
       "      <td>2023-07-28 23:05:00</td>\n",
       "      <td>Gainesville</td>\n",
       "      <td>FL</td>\n",
       "      <td>USA</td>\n",
       "      <td>Light</td>\n",
       "      <td>No more than 10 seconds</td>\n",
       "      <td>After observing a Space X launch from 100+ mil...</td>\n",
       "      <td>7/29/23</td>\n",
       "      <td>None</td>\n",
       "    </tr>\n",
       "    <tr>\n",
       "      <th>...</th>\n",
       "      <td>...</td>\n",
       "      <td>...</td>\n",
       "      <td>...</td>\n",
       "      <td>...</td>\n",
       "      <td>...</td>\n",
       "      <td>...</td>\n",
       "      <td>...</td>\n",
       "      <td>...</td>\n",
       "      <td>...</td>\n",
       "      <td>...</td>\n",
       "    </tr>\n",
       "    <tr>\n",
       "      <th>5723</th>\n",
       "      <td>https://www.nuforc.org/webreports/ndxe201707.html</td>\n",
       "      <td>2017-07-04 22:00:00</td>\n",
       "      <td>Garden City Beach</td>\n",
       "      <td>SC</td>\n",
       "      <td>USA</td>\n",
       "      <td>Changing</td>\n",
       "      <td>30 minutes</td>\n",
       "      <td>While watching Murrells Inlet Fireworks, I wat...</td>\n",
       "      <td>7/7/17</td>\n",
       "      <td>None</td>\n",
       "    </tr>\n",
       "    <tr>\n",
       "      <th>5724</th>\n",
       "      <td>https://www.nuforc.org/webreports/ndxe201707.html</td>\n",
       "      <td>2017-07-04 22:00:00</td>\n",
       "      <td>Collinsville</td>\n",
       "      <td>OK</td>\n",
       "      <td>USA</td>\n",
       "      <td>Fireball</td>\n",
       "      <td>5-7 minutes</td>\n",
       "      <td>Watching fireworks at 9:30 on July 4, 2017.  I...</td>\n",
       "      <td>9/5/17</td>\n",
       "      <td>None</td>\n",
       "    </tr>\n",
       "    <tr>\n",
       "      <th>5725</th>\n",
       "      <td>https://www.nuforc.org/webreports/ndxe201707.html</td>\n",
       "      <td>2017-07-04 22:00:00</td>\n",
       "      <td>Versailles</td>\n",
       "      <td>KY</td>\n",
       "      <td>USA</td>\n",
       "      <td>Orb</td>\n",
       "      <td>5 minutes</td>\n",
       "      <td>Three reddish orbs, triangle formation, statio...</td>\n",
       "      <td>7/7/17</td>\n",
       "      <td>None</td>\n",
       "    </tr>\n",
       "    <tr>\n",
       "      <th>5726</th>\n",
       "      <td>https://www.nuforc.org/webreports/ndxe201707.html</td>\n",
       "      <td>2017-07-04 22:00:00</td>\n",
       "      <td>Franklin Square</td>\n",
       "      <td>NY</td>\n",
       "      <td>USA</td>\n",
       "      <td>Sphere</td>\n",
       "      <td>10 minutes</td>\n",
       "      <td>Six UFO's in one night, five on video!</td>\n",
       "      <td>7/7/17</td>\n",
       "      <td>None</td>\n",
       "    </tr>\n",
       "    <tr>\n",
       "      <th>5727</th>\n",
       "      <td>https://www.nuforc.org/webreports/ndxe201707.html</td>\n",
       "      <td>2017-07-04 22:00:00</td>\n",
       "      <td>Buchanan</td>\n",
       "      <td>MI</td>\n",
       "      <td>USA</td>\n",
       "      <td>Circle</td>\n",
       "      <td>4 minutes</td>\n",
       "      <td>2 round crafts, least 100yds each in diameter ...</td>\n",
       "      <td>12/14/18</td>\n",
       "      <td>None</td>\n",
       "    </tr>\n",
       "  </tbody>\n",
       "</table>\n",
       "<p>5728 rows × 10 columns</p>\n",
       "</div>"
      ],
      "text/plain": [
       "                                                   link                data  \\\n",
       "0     https://www.nuforc.org/webreports/ndxe202307.html 2023-07-29 17:45:00   \n",
       "1     https://www.nuforc.org/webreports/ndxe202307.html 2023-07-29 11:20:00   \n",
       "2     https://www.nuforc.org/webreports/ndxe202307.html 2023-07-29 02:30:00   \n",
       "3     https://www.nuforc.org/webreports/ndxe202307.html 2023-07-29 00:20:00   \n",
       "4     https://www.nuforc.org/webreports/ndxe202307.html 2023-07-28 23:05:00   \n",
       "...                                                 ...                 ...   \n",
       "5723  https://www.nuforc.org/webreports/ndxe201707.html 2017-07-04 22:00:00   \n",
       "5724  https://www.nuforc.org/webreports/ndxe201707.html 2017-07-04 22:00:00   \n",
       "5725  https://www.nuforc.org/webreports/ndxe201707.html 2017-07-04 22:00:00   \n",
       "5726  https://www.nuforc.org/webreports/ndxe201707.html 2017-07-04 22:00:00   \n",
       "5727  https://www.nuforc.org/webreports/ndxe201707.html 2017-07-04 22:00:00   \n",
       "\n",
       "                 cidade                   estado            pais     forma  \\\n",
       "0                Malang                East Java       Indonesia     Light   \n",
       "1             Riverview                       FL             USA   Unknown   \n",
       "2               Mallusk  Antrim and Newtownabbey  United Kingdom  Triangle   \n",
       "3               Worksop          Nottinghamshire  United Kingdom      Disk   \n",
       "4           Gainesville                       FL             USA     Light   \n",
       "...                 ...                      ...             ...       ...   \n",
       "5723  Garden City Beach                       SC             USA  Changing   \n",
       "5724       Collinsville                       OK             USA  Fireball   \n",
       "5725         Versailles                       KY             USA       Orb   \n",
       "5726    Franklin Square                       NY             USA    Sphere   \n",
       "5727           Buchanan                       MI             USA    Circle   \n",
       "\n",
       "                       duracao  \\\n",
       "0     Still there as at 8:30pm   \n",
       "1                        11:21   \n",
       "2                still current   \n",
       "3             Around a minute.   \n",
       "4      No more than 10 seconds   \n",
       "...                        ...   \n",
       "5723                30 minutes   \n",
       "5724               5-7 minutes   \n",
       "5725                 5 minutes   \n",
       "5726                10 minutes   \n",
       "5727                 4 minutes   \n",
       "\n",
       "                                                 relato   postado imagens  \n",
       "0                    Green flashing (and moving) lights   7/29/23    None  \n",
       "1                    .001/ 9 screen shot clip of fly by   7/29/23     Yes  \n",
       "2     A very bright light which moved closer. On the...   7/29/23     Yes  \n",
       "3                        Flying saucer with red lights.   7/29/23    None  \n",
       "4     After observing a Space X launch from 100+ mil...   7/29/23    None  \n",
       "...                                                 ...       ...     ...  \n",
       "5723  While watching Murrells Inlet Fireworks, I wat...    7/7/17    None  \n",
       "5724  Watching fireworks at 9:30 on July 4, 2017.  I...    9/5/17    None  \n",
       "5725  Three reddish orbs, triangle formation, statio...    7/7/17    None  \n",
       "5726             Six UFO's in one night, five on video!    7/7/17    None  \n",
       "5727  2 round crafts, least 100yds each in diameter ...  12/14/18    None  \n",
       "\n",
       "[5728 rows x 10 columns]"
      ]
     },
     "execution_count": 33,
     "metadata": {},
     "output_type": "execute_result"
    }
   ],
   "source": [
    "df[filter_b]"
   ]
  }
 ],
 "metadata": {
  "kernelspec": {
   "display_name": "Python 3 (ipykernel)",
   "language": "python",
   "name": "python3"
  },
  "language_info": {
   "codemirror_mode": {
    "name": "ipython",
    "version": 3
   },
   "file_extension": ".py",
   "mimetype": "text/x-python",
   "name": "python",
   "nbconvert_exporter": "python",
   "pygments_lexer": "ipython3",
   "version": "3.10.8"
  }
 },
 "nbformat": 4,
 "nbformat_minor": 4
}
