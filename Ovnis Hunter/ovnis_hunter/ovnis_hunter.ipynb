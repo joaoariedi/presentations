{
 "cells": [
  {
   "cell_type": "markdown",
   "metadata": {},
   "source": [
    "# Caçador de OVNIs"
   ]
  },
  {
   "cell_type": "markdown",
   "metadata": {},
   "source": [
    "Em que estado e horário é mais \"fácil\" de avistar um OVNI nos EUA?"
   ]
  },
  {
   "cell_type": "markdown",
   "metadata": {},
   "source": [
    "### Importando o que importa"
   ]
  },
  {
   "cell_type": "code",
   "execution_count": 1,
   "metadata": {
    "ExecuteTime": {
     "end_time": "2023-07-07T00:26:46.862567753Z",
     "start_time": "2023-07-07T00:26:46.314604829Z"
    }
   },
   "outputs": [],
   "source": [
    "import pandas as pd\n",
    "import matplotlib.pyplot as plt\n",
    "\n",
    "import warnings\n",
    "warnings.simplefilter(action='ignore')"
   ]
  },
  {
   "cell_type": "markdown",
   "metadata": {},
   "source": [
    "### Lendo o arquivo com todas as ocorrências"
   ]
  },
  {
   "cell_type": "code",
   "execution_count": 2,
   "metadata": {
    "ExecuteTime": {
     "end_time": "2023-07-07T00:29:36.531721527Z",
     "start_time": "2023-07-07T00:29:17.064145733Z"
    }
   },
   "outputs": [],
   "source": [
    "df = pd.read_json('https://raw.githubusercontent.com/joaoariedi/presentations/master/Ovnis%20Hunter/ovnis_hunter/ovins.json')"
   ]
  },
  {
   "cell_type": "code",
   "execution_count": 3,
   "metadata": {},
   "outputs": [
    {
     "data": {
      "text/plain": [
       "pandas.core.frame.DataFrame"
      ]
     },
     "execution_count": 3,
     "metadata": {},
     "output_type": "execute_result"
    }
   ],
   "source": [
    "type(df)"
   ]
  },
  {
   "cell_type": "markdown",
   "metadata": {},
   "source": [
    "### Visualizando uma amostra dos dados"
   ]
  },
  {
   "cell_type": "code",
   "execution_count": 34,
   "metadata": {
    "ExecuteTime": {
     "end_time": "2023-07-07T00:29:53.117114243Z",
     "start_time": "2023-07-07T00:29:53.098164262Z"
    }
   },
   "outputs": [
    {
     "data": {
      "text/html": [
       "<div>\n",
       "<style scoped>\n",
       "    .dataframe tbody tr th:only-of-type {\n",
       "        vertical-align: middle;\n",
       "    }\n",
       "\n",
       "    .dataframe tbody tr th {\n",
       "        vertical-align: top;\n",
       "    }\n",
       "\n",
       "    .dataframe thead th {\n",
       "        text-align: right;\n",
       "    }\n",
       "</style>\n",
       "<table border=\"1\" class=\"dataframe\">\n",
       "  <thead>\n",
       "    <tr style=\"text-align: right;\">\n",
       "      <th></th>\n",
       "      <th>link</th>\n",
       "      <th>data</th>\n",
       "      <th>cidade</th>\n",
       "      <th>estado</th>\n",
       "      <th>pais</th>\n",
       "      <th>forma</th>\n",
       "      <th>duracao</th>\n",
       "      <th>relato</th>\n",
       "      <th>postado</th>\n",
       "      <th>imagens</th>\n",
       "    </tr>\n",
       "  </thead>\n",
       "  <tbody>\n",
       "    <tr>\n",
       "      <th>0</th>\n",
       "      <td>https://www.nuforc.org/webreports//reports/175...</td>\n",
       "      <td>2023-05-19 01:49:00</td>\n",
       "      <td>Harrisburg East of I5</td>\n",
       "      <td>OR</td>\n",
       "      <td>USA</td>\n",
       "      <td>Light</td>\n",
       "      <td>Approx. 3-4 min.</td>\n",
       "      <td>9 lights in straight line</td>\n",
       "      <td>5/19/23</td>\n",
       "      <td>None</td>\n",
       "    </tr>\n",
       "    <tr>\n",
       "      <th>1</th>\n",
       "      <td>https://www.nuforc.org/webreports//reports/175...</td>\n",
       "      <td>2023-05-18 19:40:00</td>\n",
       "      <td>Kippens</td>\n",
       "      <td>NF</td>\n",
       "      <td>Canada</td>\n",
       "      <td>Circle</td>\n",
       "      <td>5 minutes</td>\n",
       "      <td>Looked out window and saw the sun catching on ...</td>\n",
       "      <td>5/19/23</td>\n",
       "      <td>Yes</td>\n",
       "    </tr>\n",
       "    <tr>\n",
       "      <th>2</th>\n",
       "      <td>https://www.nuforc.org/webreports//reports/175...</td>\n",
       "      <td>2023-05-18 13:27:00</td>\n",
       "      <td>Hurricane</td>\n",
       "      <td>UT</td>\n",
       "      <td>USA</td>\n",
       "      <td>Cigar</td>\n",
       "      <td>10 minutes</td>\n",
       "      <td>Saw what looked like a long cigar shaped objec...</td>\n",
       "      <td>5/19/23</td>\n",
       "      <td>None</td>\n",
       "    </tr>\n",
       "    <tr>\n",
       "      <th>3</th>\n",
       "      <td>https://www.nuforc.org/webreports//reports/175...</td>\n",
       "      <td>2023-05-17 23:20:00</td>\n",
       "      <td>Sharpsville</td>\n",
       "      <td>IN</td>\n",
       "      <td>USA</td>\n",
       "      <td>Oval</td>\n",
       "      <td>1 hour</td>\n",
       "      <td>Oval like object over town no brightness</td>\n",
       "      <td>5/19/23</td>\n",
       "      <td>None</td>\n",
       "    </tr>\n",
       "    <tr>\n",
       "      <th>4</th>\n",
       "      <td>https://www.nuforc.org/webreports//reports/175...</td>\n",
       "      <td>2023-05-17 23:00:00</td>\n",
       "      <td>Tadepalligudem</td>\n",
       "      <td>Andhra Pradesh</td>\n",
       "      <td>India</td>\n",
       "      <td>Cube</td>\n",
       "      <td>5 minutes</td>\n",
       "      <td>We are watching the night sky suddenly there i...</td>\n",
       "      <td>5/19/23</td>\n",
       "      <td>Yes</td>\n",
       "    </tr>\n",
       "  </tbody>\n",
       "</table>\n",
       "</div>"
      ],
      "text/plain": [
       "                                                link                data  \\\n",
       "0  https://www.nuforc.org/webreports//reports/175... 2023-05-19 01:49:00   \n",
       "1  https://www.nuforc.org/webreports//reports/175... 2023-05-18 19:40:00   \n",
       "2  https://www.nuforc.org/webreports//reports/175... 2023-05-18 13:27:00   \n",
       "3  https://www.nuforc.org/webreports//reports/175... 2023-05-17 23:20:00   \n",
       "4  https://www.nuforc.org/webreports//reports/175... 2023-05-17 23:00:00   \n",
       "\n",
       "                  cidade          estado    pais   forma           duracao  \\\n",
       "0  Harrisburg East of I5              OR     USA   Light  Approx. 3-4 min.   \n",
       "1                Kippens              NF  Canada  Circle         5 minutes   \n",
       "2              Hurricane              UT     USA   Cigar        10 minutes   \n",
       "3            Sharpsville              IN     USA    Oval            1 hour   \n",
       "4         Tadepalligudem  Andhra Pradesh   India    Cube         5 minutes   \n",
       "\n",
       "                                              relato  postado imagens  \n",
       "0                          9 lights in straight line  5/19/23    None  \n",
       "1  Looked out window and saw the sun catching on ...  5/19/23     Yes  \n",
       "2  Saw what looked like a long cigar shaped objec...  5/19/23    None  \n",
       "3           Oval like object over town no brightness  5/19/23    None  \n",
       "4  We are watching the night sky suddenly there i...  5/19/23     Yes  "
      ]
     },
     "execution_count": 34,
     "metadata": {},
     "output_type": "execute_result"
    }
   ],
   "source": [
    "df.head()"
   ]
  },
  {
   "cell_type": "markdown",
   "metadata": {},
   "source": [
    "### Renomeando as colunas"
   ]
  },
  {
   "cell_type": "code",
   "execution_count": 35,
   "metadata": {
    "ExecuteTime": {
     "end_time": "2023-07-06T13:38:56.353712485Z",
     "start_time": "2023-07-06T13:38:56.349308350Z"
    }
   },
   "outputs": [
    {
     "data": {
      "text/html": [
       "<div>\n",
       "<style scoped>\n",
       "    .dataframe tbody tr th:only-of-type {\n",
       "        vertical-align: middle;\n",
       "    }\n",
       "\n",
       "    .dataframe tbody tr th {\n",
       "        vertical-align: top;\n",
       "    }\n",
       "\n",
       "    .dataframe thead th {\n",
       "        text-align: right;\n",
       "    }\n",
       "</style>\n",
       "<table border=\"1\" class=\"dataframe\">\n",
       "  <thead>\n",
       "    <tr style=\"text-align: right;\">\n",
       "      <th></th>\n",
       "      <th>link</th>\n",
       "      <th>data</th>\n",
       "      <th>cidade</th>\n",
       "      <th>estado</th>\n",
       "      <th>pais</th>\n",
       "      <th>forma</th>\n",
       "      <th>duracao</th>\n",
       "      <th>relato</th>\n",
       "      <th>postado</th>\n",
       "      <th>imagens</th>\n",
       "    </tr>\n",
       "  </thead>\n",
       "  <tbody>\n",
       "    <tr>\n",
       "      <th>0</th>\n",
       "      <td>https://www.nuforc.org/webreports//reports/175...</td>\n",
       "      <td>2023-05-19 01:49:00</td>\n",
       "      <td>Harrisburg East of I5</td>\n",
       "      <td>OR</td>\n",
       "      <td>USA</td>\n",
       "      <td>Light</td>\n",
       "      <td>Approx. 3-4 min.</td>\n",
       "      <td>9 lights in straight line</td>\n",
       "      <td>5/19/23</td>\n",
       "      <td>None</td>\n",
       "    </tr>\n",
       "    <tr>\n",
       "      <th>1</th>\n",
       "      <td>https://www.nuforc.org/webreports//reports/175...</td>\n",
       "      <td>2023-05-18 19:40:00</td>\n",
       "      <td>Kippens</td>\n",
       "      <td>NF</td>\n",
       "      <td>Canada</td>\n",
       "      <td>Circle</td>\n",
       "      <td>5 minutes</td>\n",
       "      <td>Looked out window and saw the sun catching on ...</td>\n",
       "      <td>5/19/23</td>\n",
       "      <td>Yes</td>\n",
       "    </tr>\n",
       "  </tbody>\n",
       "</table>\n",
       "</div>"
      ],
      "text/plain": [
       "                                                link                data  \\\n",
       "0  https://www.nuforc.org/webreports//reports/175... 2023-05-19 01:49:00   \n",
       "1  https://www.nuforc.org/webreports//reports/175... 2023-05-18 19:40:00   \n",
       "\n",
       "                  cidade estado    pais   forma           duracao  \\\n",
       "0  Harrisburg East of I5     OR     USA   Light  Approx. 3-4 min.   \n",
       "1                Kippens     NF  Canada  Circle         5 minutes   \n",
       "\n",
       "                                              relato  postado imagens  \n",
       "0                          9 lights in straight line  5/19/23    None  \n",
       "1  Looked out window and saw the sun catching on ...  5/19/23     Yes  "
      ]
     },
     "execution_count": 35,
     "metadata": {},
     "output_type": "execute_result"
    }
   ],
   "source": [
    "df.columns = ['link', 'data', 'cidade', 'estado', 'pais', 'forma', 'duracao', 'relato', 'postado', 'imagens']\n",
    "df.head(2)"
   ]
  },
  {
   "cell_type": "code",
   "execution_count": 36,
   "metadata": {
    "ExecuteTime": {
     "end_time": "2023-07-06T13:39:55.084205878Z",
     "start_time": "2023-07-06T13:39:55.042213886Z"
    },
    "collapsed": false,
    "jupyter": {
     "outputs_hidden": false
    },
    "scrolled": true
   },
   "outputs": [
    {
     "data": {
      "text/html": [
       "<div>\n",
       "<style scoped>\n",
       "    .dataframe tbody tr th:only-of-type {\n",
       "        vertical-align: middle;\n",
       "    }\n",
       "\n",
       "    .dataframe tbody tr th {\n",
       "        vertical-align: top;\n",
       "    }\n",
       "\n",
       "    .dataframe thead th {\n",
       "        text-align: right;\n",
       "    }\n",
       "</style>\n",
       "<table border=\"1\" class=\"dataframe\">\n",
       "  <thead>\n",
       "    <tr style=\"text-align: right;\">\n",
       "      <th></th>\n",
       "      <th>link</th>\n",
       "      <th>data</th>\n",
       "      <th>cidade</th>\n",
       "      <th>estado</th>\n",
       "      <th>pais</th>\n",
       "      <th>forma</th>\n",
       "      <th>duracao</th>\n",
       "      <th>relato</th>\n",
       "      <th>postado</th>\n",
       "      <th>imagens</th>\n",
       "    </tr>\n",
       "  </thead>\n",
       "  <tbody>\n",
       "    <tr>\n",
       "      <th>143283</th>\n",
       "      <td>https://www.nuforc.org/webreports//reports/154...</td>\n",
       "      <td>2020-04-01 04:00:00</td>\n",
       "      <td>Anderson</td>\n",
       "      <td>SC</td>\n",
       "      <td>USA</td>\n",
       "      <td>Light</td>\n",
       "      <td>30+ minutes</td>\n",
       "      <td>2 lights appeared out of nowhere just down and...</td>\n",
       "      <td>6/25/20</td>\n",
       "      <td>None</td>\n",
       "    </tr>\n",
       "    <tr>\n",
       "      <th>143284</th>\n",
       "      <td>https://www.nuforc.org/webreports//reports/154...</td>\n",
       "      <td>2020-04-01 03:45:00</td>\n",
       "      <td>Petersham</td>\n",
       "      <td>MA</td>\n",
       "      <td>USA</td>\n",
       "      <td>Fireball</td>\n",
       "      <td>2+ minutes</td>\n",
       "      <td>Ok, this is NOT an April fools joke. At 3:45 t...</td>\n",
       "      <td>4/9/20</td>\n",
       "      <td>None</td>\n",
       "    </tr>\n",
       "  </tbody>\n",
       "</table>\n",
       "</div>"
      ],
      "text/plain": [
       "                                                     link                data  \\\n",
       "143283  https://www.nuforc.org/webreports//reports/154... 2020-04-01 04:00:00   \n",
       "143284  https://www.nuforc.org/webreports//reports/154... 2020-04-01 03:45:00   \n",
       "\n",
       "           cidade estado pais     forma      duracao  \\\n",
       "143283   Anderson     SC  USA     Light  30+ minutes   \n",
       "143284  Petersham     MA  USA  Fireball   2+ minutes   \n",
       "\n",
       "                                                   relato  postado imagens  \n",
       "143283  2 lights appeared out of nowhere just down and...  6/25/20    None  \n",
       "143284  Ok, this is NOT an April fools joke. At 3:45 t...   4/9/20    None  "
      ]
     },
     "execution_count": 36,
     "metadata": {},
     "output_type": "execute_result"
    }
   ],
   "source": [
    "df.tail(2)"
   ]
  },
  {
   "cell_type": "code",
   "execution_count": 44,
   "metadata": {},
   "outputs": [
    {
     "name": "stdout",
     "output_type": "stream",
     "text": [
      "(143285, 10)\n",
      "(137035, 10)\n"
     ]
    }
   ],
   "source": [
    "df_drop_postado = df.dropna(subset = ['forma'])\n",
    "\n",
    "print(df.shape)\n",
    "print(df_drop_postado.shape)\n"
   ]
  },
  {
   "cell_type": "markdown",
   "metadata": {},
   "source": [
    "### Convertendo uma coluna com datas de <code>string</code> para <code>datetime</code>"
   ]
  },
  {
   "cell_type": "code",
   "execution_count": 47,
   "metadata": {
    "ExecuteTime": {
     "end_time": "2023-07-06T13:40:08.340686451Z",
     "start_time": "2023-07-06T13:40:08.293810711Z"
    }
   },
   "outputs": [
    {
     "ename": "AttributeError",
     "evalue": "module 'pandas' has no attribute 'to_date'",
     "output_type": "error",
     "traceback": [
      "\u001b[0;31m---------------------------------------------------------------------------\u001b[0m",
      "\u001b[0;31mAttributeError\u001b[0m                            Traceback (most recent call last)",
      "Cell \u001b[0;32mIn[47], line 1\u001b[0m\n\u001b[0;32m----> 1\u001b[0m df[\u001b[38;5;124m'\u001b[39m\u001b[38;5;124mdata\u001b[39m\u001b[38;5;124m'\u001b[39m] \u001b[38;5;241m=\u001b[39m \u001b[43mpd\u001b[49m\u001b[38;5;241;43m.\u001b[39;49m\u001b[43mto_date\u001b[49m(df[\u001b[38;5;124m'\u001b[39m\u001b[38;5;124mdata\u001b[39m\u001b[38;5;124m'\u001b[39m])\n",
      "\u001b[0;31mAttributeError\u001b[0m: module 'pandas' has no attribute 'to_date'"
     ]
    }
   ],
   "source": [
    "df['data'] = pd.to_datetime(df['data'])"
   ]
  },
  {
   "cell_type": "code",
   "execution_count": 46,
   "metadata": {
    "ExecuteTime": {
     "end_time": "2023-07-06T13:40:10.096010270Z",
     "start_time": "2023-07-06T13:40:10.092396310Z"
    }
   },
   "outputs": [
    {
     "data": {
      "text/html": [
       "<div>\n",
       "<style scoped>\n",
       "    .dataframe tbody tr th:only-of-type {\n",
       "        vertical-align: middle;\n",
       "    }\n",
       "\n",
       "    .dataframe tbody tr th {\n",
       "        vertical-align: top;\n",
       "    }\n",
       "\n",
       "    .dataframe thead th {\n",
       "        text-align: right;\n",
       "    }\n",
       "</style>\n",
       "<table border=\"1\" class=\"dataframe\">\n",
       "  <thead>\n",
       "    <tr style=\"text-align: right;\">\n",
       "      <th></th>\n",
       "      <th>link</th>\n",
       "      <th>data</th>\n",
       "      <th>cidade</th>\n",
       "      <th>estado</th>\n",
       "      <th>pais</th>\n",
       "      <th>forma</th>\n",
       "      <th>duracao</th>\n",
       "      <th>relato</th>\n",
       "      <th>postado</th>\n",
       "      <th>imagens</th>\n",
       "    </tr>\n",
       "  </thead>\n",
       "  <tbody>\n",
       "    <tr>\n",
       "      <th>0</th>\n",
       "      <td>https://www.nuforc.org/webreports//reports/175...</td>\n",
       "      <td>2023-05-19 01:49:00</td>\n",
       "      <td>Harrisburg East of I5</td>\n",
       "      <td>OR</td>\n",
       "      <td>USA</td>\n",
       "      <td>Light</td>\n",
       "      <td>Approx. 3-4 min.</td>\n",
       "      <td>9 lights in straight line</td>\n",
       "      <td>5/19/23</td>\n",
       "      <td>None</td>\n",
       "    </tr>\n",
       "    <tr>\n",
       "      <th>1</th>\n",
       "      <td>https://www.nuforc.org/webreports//reports/175...</td>\n",
       "      <td>2023-05-18 19:40:00</td>\n",
       "      <td>Kippens</td>\n",
       "      <td>NF</td>\n",
       "      <td>Canada</td>\n",
       "      <td>Circle</td>\n",
       "      <td>5 minutes</td>\n",
       "      <td>Looked out window and saw the sun catching on ...</td>\n",
       "      <td>5/19/23</td>\n",
       "      <td>Yes</td>\n",
       "    </tr>\n",
       "    <tr>\n",
       "      <th>2</th>\n",
       "      <td>https://www.nuforc.org/webreports//reports/175...</td>\n",
       "      <td>2023-05-18 13:27:00</td>\n",
       "      <td>Hurricane</td>\n",
       "      <td>UT</td>\n",
       "      <td>USA</td>\n",
       "      <td>Cigar</td>\n",
       "      <td>10 minutes</td>\n",
       "      <td>Saw what looked like a long cigar shaped objec...</td>\n",
       "      <td>5/19/23</td>\n",
       "      <td>None</td>\n",
       "    </tr>\n",
       "    <tr>\n",
       "      <th>3</th>\n",
       "      <td>https://www.nuforc.org/webreports//reports/175...</td>\n",
       "      <td>2023-05-17 23:20:00</td>\n",
       "      <td>Sharpsville</td>\n",
       "      <td>IN</td>\n",
       "      <td>USA</td>\n",
       "      <td>Oval</td>\n",
       "      <td>1 hour</td>\n",
       "      <td>Oval like object over town no brightness</td>\n",
       "      <td>5/19/23</td>\n",
       "      <td>None</td>\n",
       "    </tr>\n",
       "    <tr>\n",
       "      <th>4</th>\n",
       "      <td>https://www.nuforc.org/webreports//reports/175...</td>\n",
       "      <td>2023-05-17 23:00:00</td>\n",
       "      <td>Tadepalligudem</td>\n",
       "      <td>Andhra Pradesh</td>\n",
       "      <td>India</td>\n",
       "      <td>Cube</td>\n",
       "      <td>5 minutes</td>\n",
       "      <td>We are watching the night sky suddenly there i...</td>\n",
       "      <td>5/19/23</td>\n",
       "      <td>Yes</td>\n",
       "    </tr>\n",
       "  </tbody>\n",
       "</table>\n",
       "</div>"
      ],
      "text/plain": [
       "                                                link                data  \\\n",
       "0  https://www.nuforc.org/webreports//reports/175... 2023-05-19 01:49:00   \n",
       "1  https://www.nuforc.org/webreports//reports/175... 2023-05-18 19:40:00   \n",
       "2  https://www.nuforc.org/webreports//reports/175... 2023-05-18 13:27:00   \n",
       "3  https://www.nuforc.org/webreports//reports/175... 2023-05-17 23:20:00   \n",
       "4  https://www.nuforc.org/webreports//reports/175... 2023-05-17 23:00:00   \n",
       "\n",
       "                  cidade          estado    pais   forma           duracao  \\\n",
       "0  Harrisburg East of I5              OR     USA   Light  Approx. 3-4 min.   \n",
       "1                Kippens              NF  Canada  Circle         5 minutes   \n",
       "2              Hurricane              UT     USA   Cigar        10 minutes   \n",
       "3            Sharpsville              IN     USA    Oval            1 hour   \n",
       "4         Tadepalligudem  Andhra Pradesh   India    Cube         5 minutes   \n",
       "\n",
       "                                              relato  postado imagens  \n",
       "0                          9 lights in straight line  5/19/23    None  \n",
       "1  Looked out window and saw the sun catching on ...  5/19/23     Yes  \n",
       "2  Saw what looked like a long cigar shaped objec...  5/19/23    None  \n",
       "3           Oval like object over town no brightness  5/19/23    None  \n",
       "4  We are watching the night sky suddenly there i...  5/19/23     Yes  "
      ]
     },
     "execution_count": 46,
     "metadata": {},
     "output_type": "execute_result"
    }
   ],
   "source": [
    "df.head()"
   ]
  },
  {
   "cell_type": "markdown",
   "metadata": {},
   "source": [
    "### Limpando os relatos com dados faltantes"
   ]
  },
  {
   "cell_type": "code",
   "execution_count": 11,
   "metadata": {},
   "outputs": [
    {
     "data": {
      "text/html": [
       "<div>\n",
       "<style scoped>\n",
       "    .dataframe tbody tr th:only-of-type {\n",
       "        vertical-align: middle;\n",
       "    }\n",
       "\n",
       "    .dataframe tbody tr th {\n",
       "        vertical-align: top;\n",
       "    }\n",
       "\n",
       "    .dataframe thead th {\n",
       "        text-align: right;\n",
       "    }\n",
       "</style>\n",
       "<table border=\"1\" class=\"dataframe\">\n",
       "  <thead>\n",
       "    <tr style=\"text-align: right;\">\n",
       "      <th></th>\n",
       "      <th>link</th>\n",
       "      <th>data</th>\n",
       "      <th>cidade</th>\n",
       "      <th>estado</th>\n",
       "      <th>pais</th>\n",
       "      <th>forma</th>\n",
       "      <th>duracao</th>\n",
       "      <th>relato</th>\n",
       "      <th>postado</th>\n",
       "      <th>imagens</th>\n",
       "    </tr>\n",
       "  </thead>\n",
       "  <tbody>\n",
       "    <tr>\n",
       "      <th>0</th>\n",
       "      <td>https://www.nuforc.org/webreports//reports/175...</td>\n",
       "      <td>2023-05-19 01:49:00</td>\n",
       "      <td>Harrisburg East of I5</td>\n",
       "      <td>OR</td>\n",
       "      <td>USA</td>\n",
       "      <td>Light</td>\n",
       "      <td>Approx. 3-4 min.</td>\n",
       "      <td>9 lights in straight line</td>\n",
       "      <td>5/19/23</td>\n",
       "      <td>None</td>\n",
       "    </tr>\n",
       "    <tr>\n",
       "      <th>1</th>\n",
       "      <td>https://www.nuforc.org/webreports//reports/175...</td>\n",
       "      <td>2023-05-18 19:40:00</td>\n",
       "      <td>Kippens</td>\n",
       "      <td>NF</td>\n",
       "      <td>Canada</td>\n",
       "      <td>Circle</td>\n",
       "      <td>5 minutes</td>\n",
       "      <td>Looked out window and saw the sun catching on ...</td>\n",
       "      <td>5/19/23</td>\n",
       "      <td>Yes</td>\n",
       "    </tr>\n",
       "    <tr>\n",
       "      <th>2</th>\n",
       "      <td>https://www.nuforc.org/webreports//reports/175...</td>\n",
       "      <td>2023-05-18 13:27:00</td>\n",
       "      <td>Hurricane</td>\n",
       "      <td>UT</td>\n",
       "      <td>USA</td>\n",
       "      <td>Cigar</td>\n",
       "      <td>10 minutes</td>\n",
       "      <td>Saw what looked like a long cigar shaped objec...</td>\n",
       "      <td>5/19/23</td>\n",
       "      <td>None</td>\n",
       "    </tr>\n",
       "    <tr>\n",
       "      <th>3</th>\n",
       "      <td>https://www.nuforc.org/webreports//reports/175...</td>\n",
       "      <td>2023-05-17 23:20:00</td>\n",
       "      <td>Sharpsville</td>\n",
       "      <td>IN</td>\n",
       "      <td>USA</td>\n",
       "      <td>Oval</td>\n",
       "      <td>1 hour</td>\n",
       "      <td>Oval like object over town no brightness</td>\n",
       "      <td>5/19/23</td>\n",
       "      <td>None</td>\n",
       "    </tr>\n",
       "    <tr>\n",
       "      <th>4</th>\n",
       "      <td>https://www.nuforc.org/webreports//reports/175...</td>\n",
       "      <td>2023-05-17 23:00:00</td>\n",
       "      <td>Tadepalligudem</td>\n",
       "      <td>Andhra Pradesh</td>\n",
       "      <td>India</td>\n",
       "      <td>Cube</td>\n",
       "      <td>5 minutes</td>\n",
       "      <td>We are watching the night sky suddenly there i...</td>\n",
       "      <td>5/19/23</td>\n",
       "      <td>Yes</td>\n",
       "    </tr>\n",
       "    <tr>\n",
       "      <th>...</th>\n",
       "      <td>...</td>\n",
       "      <td>...</td>\n",
       "      <td>...</td>\n",
       "      <td>...</td>\n",
       "      <td>...</td>\n",
       "      <td>...</td>\n",
       "      <td>...</td>\n",
       "      <td>...</td>\n",
       "      <td>...</td>\n",
       "      <td>...</td>\n",
       "    </tr>\n",
       "    <tr>\n",
       "      <th>143280</th>\n",
       "      <td>https://www.nuforc.org/webreports//reports/154...</td>\n",
       "      <td>2020-04-01 10:00:00</td>\n",
       "      <td>Johnscreek</td>\n",
       "      <td>GA</td>\n",
       "      <td>USA</td>\n",
       "      <td>Circle</td>\n",
       "      <td>10</td>\n",
       "      <td>Glowing circular disc was spinning clock wise,...</td>\n",
       "      <td>5/15/20</td>\n",
       "      <td>None</td>\n",
       "    </tr>\n",
       "    <tr>\n",
       "      <th>143281</th>\n",
       "      <td>https://www.nuforc.org/webreports//reports/154...</td>\n",
       "      <td>2020-04-01 09:45:00</td>\n",
       "      <td>Woodbury</td>\n",
       "      <td>MN</td>\n",
       "      <td>USA</td>\n",
       "      <td>Sphere</td>\n",
       "      <td>1 minutes</td>\n",
       "      <td>I was looking out my window and saw a bright w...</td>\n",
       "      <td>6/25/20</td>\n",
       "      <td>None</td>\n",
       "    </tr>\n",
       "    <tr>\n",
       "      <th>143282</th>\n",
       "      <td>https://www.nuforc.org/webreports//reports/155...</td>\n",
       "      <td>2020-04-01 09:28:00</td>\n",
       "      <td>Nairobi (Kenya)</td>\n",
       "      <td>None</td>\n",
       "      <td>Kenya</td>\n",
       "      <td>Sphere</td>\n",
       "      <td>15-20 minutes</td>\n",
       "      <td>Shining sphere</td>\n",
       "      <td>6/25/20</td>\n",
       "      <td>None</td>\n",
       "    </tr>\n",
       "    <tr>\n",
       "      <th>143283</th>\n",
       "      <td>https://www.nuforc.org/webreports//reports/154...</td>\n",
       "      <td>2020-04-01 04:00:00</td>\n",
       "      <td>Anderson</td>\n",
       "      <td>SC</td>\n",
       "      <td>USA</td>\n",
       "      <td>Light</td>\n",
       "      <td>30+ minutes</td>\n",
       "      <td>2 lights appeared out of nowhere just down and...</td>\n",
       "      <td>6/25/20</td>\n",
       "      <td>None</td>\n",
       "    </tr>\n",
       "    <tr>\n",
       "      <th>143284</th>\n",
       "      <td>https://www.nuforc.org/webreports//reports/154...</td>\n",
       "      <td>2020-04-01 03:45:00</td>\n",
       "      <td>Petersham</td>\n",
       "      <td>MA</td>\n",
       "      <td>USA</td>\n",
       "      <td>Fireball</td>\n",
       "      <td>2+ minutes</td>\n",
       "      <td>Ok, this is NOT an April fools joke. At 3:45 t...</td>\n",
       "      <td>4/9/20</td>\n",
       "      <td>None</td>\n",
       "    </tr>\n",
       "  </tbody>\n",
       "</table>\n",
       "<p>143285 rows × 10 columns</p>\n",
       "</div>"
      ],
      "text/plain": [
       "                                                     link                data  \\\n",
       "0       https://www.nuforc.org/webreports//reports/175... 2023-05-19 01:49:00   \n",
       "1       https://www.nuforc.org/webreports//reports/175... 2023-05-18 19:40:00   \n",
       "2       https://www.nuforc.org/webreports//reports/175... 2023-05-18 13:27:00   \n",
       "3       https://www.nuforc.org/webreports//reports/175... 2023-05-17 23:20:00   \n",
       "4       https://www.nuforc.org/webreports//reports/175... 2023-05-17 23:00:00   \n",
       "...                                                   ...                 ...   \n",
       "143280  https://www.nuforc.org/webreports//reports/154... 2020-04-01 10:00:00   \n",
       "143281  https://www.nuforc.org/webreports//reports/154... 2020-04-01 09:45:00   \n",
       "143282  https://www.nuforc.org/webreports//reports/155... 2020-04-01 09:28:00   \n",
       "143283  https://www.nuforc.org/webreports//reports/154... 2020-04-01 04:00:00   \n",
       "143284  https://www.nuforc.org/webreports//reports/154... 2020-04-01 03:45:00   \n",
       "\n",
       "                       cidade          estado    pais     forma  \\\n",
       "0       Harrisburg East of I5              OR     USA     Light   \n",
       "1                     Kippens              NF  Canada    Circle   \n",
       "2                   Hurricane              UT     USA     Cigar   \n",
       "3                 Sharpsville              IN     USA      Oval   \n",
       "4              Tadepalligudem  Andhra Pradesh   India      Cube   \n",
       "...                       ...             ...     ...       ...   \n",
       "143280             Johnscreek              GA     USA    Circle   \n",
       "143281               Woodbury              MN     USA    Sphere   \n",
       "143282        Nairobi (Kenya)            None   Kenya    Sphere   \n",
       "143283               Anderson              SC     USA     Light   \n",
       "143284              Petersham              MA     USA  Fireball   \n",
       "\n",
       "                 duracao                                             relato  \\\n",
       "0       Approx. 3-4 min.                          9 lights in straight line   \n",
       "1              5 minutes  Looked out window and saw the sun catching on ...   \n",
       "2             10 minutes  Saw what looked like a long cigar shaped objec...   \n",
       "3                 1 hour           Oval like object over town no brightness   \n",
       "4              5 minutes  We are watching the night sky suddenly there i...   \n",
       "...                  ...                                                ...   \n",
       "143280                10  Glowing circular disc was spinning clock wise,...   \n",
       "143281         1 minutes  I was looking out my window and saw a bright w...   \n",
       "143282     15-20 minutes                                     Shining sphere   \n",
       "143283       30+ minutes  2 lights appeared out of nowhere just down and...   \n",
       "143284        2+ minutes  Ok, this is NOT an April fools joke. At 3:45 t...   \n",
       "\n",
       "        postado imagens  \n",
       "0       5/19/23    None  \n",
       "1       5/19/23     Yes  \n",
       "2       5/19/23    None  \n",
       "3       5/19/23    None  \n",
       "4       5/19/23     Yes  \n",
       "...         ...     ...  \n",
       "143280  5/15/20    None  \n",
       "143281  6/25/20    None  \n",
       "143282  6/25/20    None  \n",
       "143283  6/25/20    None  \n",
       "143284   4/9/20    None  \n",
       "\n",
       "[143285 rows x 10 columns]"
      ]
     },
     "execution_count": 11,
     "metadata": {},
     "output_type": "execute_result"
    }
   ],
   "source": [
    "filter1 = df.postado != None\n",
    "df[filter1]"
   ]
  },
  {
   "cell_type": "code",
   "execution_count": 12,
   "metadata": {
    "ExecuteTime": {
     "end_time": "2023-07-06T13:40:35.364037943Z",
     "start_time": "2023-07-06T13:40:35.349001556Z"
    }
   },
   "outputs": [
    {
     "data": {
      "text/html": [
       "<div>\n",
       "<style scoped>\n",
       "    .dataframe tbody tr th:only-of-type {\n",
       "        vertical-align: middle;\n",
       "    }\n",
       "\n",
       "    .dataframe tbody tr th {\n",
       "        vertical-align: top;\n",
       "    }\n",
       "\n",
       "    .dataframe thead th {\n",
       "        text-align: right;\n",
       "    }\n",
       "</style>\n",
       "<table border=\"1\" class=\"dataframe\">\n",
       "  <thead>\n",
       "    <tr style=\"text-align: right;\">\n",
       "      <th></th>\n",
       "      <th>link</th>\n",
       "      <th>data</th>\n",
       "      <th>cidade</th>\n",
       "      <th>estado</th>\n",
       "      <th>pais</th>\n",
       "      <th>forma</th>\n",
       "      <th>duracao</th>\n",
       "      <th>relato</th>\n",
       "      <th>postado</th>\n",
       "      <th>imagens</th>\n",
       "    </tr>\n",
       "  </thead>\n",
       "  <tbody>\n",
       "    <tr>\n",
       "      <th>185</th>\n",
       "      <td>https://www.nuforc.org/webreports//reports/133...</td>\n",
       "      <td>2017-03-25 01:00:00</td>\n",
       "      <td>Fallbrook</td>\n",
       "      <td>CA</td>\n",
       "      <td>USA</td>\n",
       "      <td>None</td>\n",
       "      <td>1.5 minutes</td>\n",
       "      <td>Green laser lights coming from sky on west sid...</td>\n",
       "      <td>4/7/17</td>\n",
       "      <td>None</td>\n",
       "    </tr>\n",
       "    <tr>\n",
       "      <th>188</th>\n",
       "      <td>https://www.nuforc.org/webreports//reports/133...</td>\n",
       "      <td>2017-03-24 23:15:00</td>\n",
       "      <td>Merrimack</td>\n",
       "      <td>NH</td>\n",
       "      <td>USA</td>\n",
       "      <td>None</td>\n",
       "      <td>4 seconds</td>\n",
       "      <td>On the night of March 24th, 2017, I'm on my wa...</td>\n",
       "      <td>4/13/17</td>\n",
       "      <td>None</td>\n",
       "    </tr>\n",
       "    <tr>\n",
       "      <th>385</th>\n",
       "      <td>https://www.nuforc.org/webreports//reports/133...</td>\n",
       "      <td>2017-03-10 20:00:00</td>\n",
       "      <td>Memphis</td>\n",
       "      <td>TN</td>\n",
       "      <td>USA</td>\n",
       "      <td>None</td>\n",
       "      <td>10 seconds</td>\n",
       "      <td>Bright green shooting light.</td>\n",
       "      <td>3/17/17</td>\n",
       "      <td>None</td>\n",
       "    </tr>\n",
       "    <tr>\n",
       "      <th>442</th>\n",
       "      <td>https://www.nuforc.org/webreports//reports/132...</td>\n",
       "      <td>2017-03-05 10:00:00</td>\n",
       "      <td>San Fernando</td>\n",
       "      <td>CA</td>\n",
       "      <td>USA</td>\n",
       "      <td>None</td>\n",
       "      <td>1 minute</td>\n",
       "      <td>My son and I were playing catch in the backyar...</td>\n",
       "      <td>3/10/17</td>\n",
       "      <td>None</td>\n",
       "    </tr>\n",
       "    <tr>\n",
       "      <th>456</th>\n",
       "      <td>https://www.nuforc.org/webreports//reports/132...</td>\n",
       "      <td>2017-03-04 18:30:00</td>\n",
       "      <td>Monson</td>\n",
       "      <td>ME</td>\n",
       "      <td>USA</td>\n",
       "      <td>None</td>\n",
       "      <td>5 minutes</td>\n",
       "      <td>I didn't see an object but there a low flying ...</td>\n",
       "      <td>3/10/17</td>\n",
       "      <td>None</td>\n",
       "    </tr>\n",
       "  </tbody>\n",
       "</table>\n",
       "</div>"
      ],
      "text/plain": [
       "                                                  link                data  \\\n",
       "185  https://www.nuforc.org/webreports//reports/133... 2017-03-25 01:00:00   \n",
       "188  https://www.nuforc.org/webreports//reports/133... 2017-03-24 23:15:00   \n",
       "385  https://www.nuforc.org/webreports//reports/133... 2017-03-10 20:00:00   \n",
       "442  https://www.nuforc.org/webreports//reports/132... 2017-03-05 10:00:00   \n",
       "456  https://www.nuforc.org/webreports//reports/132... 2017-03-04 18:30:00   \n",
       "\n",
       "           cidade estado pais forma      duracao  \\\n",
       "185     Fallbrook     CA  USA  None  1.5 minutes   \n",
       "188     Merrimack     NH  USA  None    4 seconds   \n",
       "385       Memphis     TN  USA  None   10 seconds   \n",
       "442  San Fernando     CA  USA  None     1 minute   \n",
       "456        Monson     ME  USA  None    5 minutes   \n",
       "\n",
       "                                                relato  postado imagens  \n",
       "185  Green laser lights coming from sky on west sid...   4/7/17    None  \n",
       "188  On the night of March 24th, 2017, I'm on my wa...  4/13/17    None  \n",
       "385                       Bright green shooting light.  3/17/17    None  \n",
       "442  My son and I were playing catch in the backyar...  3/10/17    None  \n",
       "456  I didn't see an object but there a low flying ...  3/10/17    None  "
      ]
     },
     "execution_count": 12,
     "metadata": {},
     "output_type": "execute_result"
    }
   ],
   "source": [
    "selector = pd.isnull(df['forma'])\n",
    "df[selector].head()"
   ]
  },
  {
   "cell_type": "code",
   "execution_count": 13,
   "metadata": {
    "ExecuteTime": {
     "end_time": "2023-07-06T13:40:49.860737358Z",
     "start_time": "2023-07-06T13:40:49.819019250Z"
    }
   },
   "outputs": [],
   "source": [
    "df_dropped = df.dropna(subset = ['forma'])"
   ]
  },
  {
   "cell_type": "code",
   "execution_count": 14,
   "metadata": {
    "ExecuteTime": {
     "end_time": "2023-07-06T13:40:51.827035584Z",
     "start_time": "2023-07-06T13:40:51.821621384Z"
    }
   },
   "outputs": [
    {
     "data": {
      "text/plain": [
       "(137035, 10)"
      ]
     },
     "execution_count": 14,
     "metadata": {},
     "output_type": "execute_result"
    }
   ],
   "source": [
    "df_dropped.shape"
   ]
  },
  {
   "cell_type": "markdown",
   "metadata": {},
   "source": [
    "### Agrupando os resultados por estado"
   ]
  },
  {
   "cell_type": "code",
   "execution_count": 15,
   "metadata": {
    "ExecuteTime": {
     "end_time": "2023-07-06T13:41:23.027463313Z",
     "start_time": "2023-07-06T13:41:22.986785648Z"
    }
   },
   "outputs": [],
   "source": [
    "ocorrencias_por_estado = df_dropped.groupby('estado')['data'].count()"
   ]
  },
  {
   "cell_type": "code",
   "execution_count": 16,
   "metadata": {
    "ExecuteTime": {
     "end_time": "2023-07-06T13:41:25.218598642Z",
     "start_time": "2023-07-06T13:41:25.215563369Z"
    }
   },
   "outputs": [],
   "source": [
    "ocorrencias_por_estado.sort_values(ascending=False, inplace=True)"
   ]
  },
  {
   "cell_type": "markdown",
   "metadata": {},
   "source": [
    "### Plotando os 10 estados com mais ocorrências"
   ]
  },
  {
   "cell_type": "code",
   "execution_count": 17,
   "metadata": {},
   "outputs": [
    {
     "data": {
      "text/plain": [
       "count      351.000000\n",
       "mean       364.347578\n",
       "std       1264.433280\n",
       "min          1.000000\n",
       "25%          1.000000\n",
       "50%          1.000000\n",
       "75%          5.000000\n",
       "max      15127.000000\n",
       "Name: data, dtype: float64"
      ]
     },
     "execution_count": 17,
     "metadata": {},
     "output_type": "execute_result"
    }
   ],
   "source": [
    "ocorrencias_por_estado.describe()"
   ]
  },
  {
   "cell_type": "code",
   "execution_count": 18,
   "metadata": {
    "ExecuteTime": {
     "end_time": "2023-07-06T13:41:31.108256943Z",
     "start_time": "2023-07-06T13:41:30.708560459Z"
    }
   },
   "outputs": [
    {
     "data": {
      "text/plain": [
       "<Axes: xlabel='estado'>"
      ]
     },
     "execution_count": 18,
     "metadata": {},
     "output_type": "execute_result"
    },
    {
     "data": {
      "image/png": "[encoded data removed]",
      "text/plain": [
       "<Figure size 640x480 with 1 Axes>"
      ]
     },
     "metadata": {},
     "output_type": "display_data"
    }
   ],
   "source": [
    "ocorrencias_por_estado.head(15).plot.bar(rot=45)"
   ]
  },
  {
   "cell_type": "markdown",
   "metadata": {},
   "source": [
    "### Extraindo um <code>subset</code> com somente com os dados da Califórnia"
   ]
  },
  {
   "cell_type": "code",
   "execution_count": 19,
   "metadata": {
    "ExecuteTime": {
     "end_time": "2023-07-06T13:41:40.550725968Z",
     "start_time": "2023-07-06T13:41:40.508465780Z"
    }
   },
   "outputs": [],
   "source": [
    "selector = df_dropped['estado'] == \"CA\""
   ]
  },
  {
   "cell_type": "code",
   "execution_count": 20,
   "metadata": {
    "ExecuteTime": {
     "end_time": "2023-07-06T13:41:44.961910450Z",
     "start_time": "2023-07-06T13:41:44.952389671Z"
    }
   },
   "outputs": [],
   "source": [
    "california = df_dropped[selector]"
   ]
  },
  {
   "cell_type": "code",
   "execution_count": 21,
   "metadata": {
    "ExecuteTime": {
     "end_time": "2023-07-06T13:41:46.493523216Z",
     "start_time": "2023-07-06T13:41:46.489994102Z"
    }
   },
   "outputs": [
    {
     "data": {
      "text/html": [
       "<div>\n",
       "<style scoped>\n",
       "    .dataframe tbody tr th:only-of-type {\n",
       "        vertical-align: middle;\n",
       "    }\n",
       "\n",
       "    .dataframe tbody tr th {\n",
       "        vertical-align: top;\n",
       "    }\n",
       "\n",
       "    .dataframe thead th {\n",
       "        text-align: right;\n",
       "    }\n",
       "</style>\n",
       "<table border=\"1\" class=\"dataframe\">\n",
       "  <thead>\n",
       "    <tr style=\"text-align: right;\">\n",
       "      <th></th>\n",
       "      <th>link</th>\n",
       "      <th>data</th>\n",
       "      <th>cidade</th>\n",
       "      <th>estado</th>\n",
       "      <th>pais</th>\n",
       "      <th>forma</th>\n",
       "      <th>duracao</th>\n",
       "      <th>relato</th>\n",
       "      <th>postado</th>\n",
       "      <th>imagens</th>\n",
       "    </tr>\n",
       "  </thead>\n",
       "  <tbody>\n",
       "    <tr>\n",
       "      <th>6</th>\n",
       "      <td>https://www.nuforc.org/webreports//reports/175...</td>\n",
       "      <td>2023-05-17 15:30:00</td>\n",
       "      <td>Santa Barbara</td>\n",
       "      <td>CA</td>\n",
       "      <td>USA</td>\n",
       "      <td>Other</td>\n",
       "      <td>2 min 23 sec</td>\n",
       "      <td>1 Rotation ~ 1 sec, Wobbling. Square but thinn...</td>\n",
       "      <td>5/19/23</td>\n",
       "      <td>Yes</td>\n",
       "    </tr>\n",
       "    <tr>\n",
       "      <th>9</th>\n",
       "      <td>https://www.nuforc.org/webreports//reports/175...</td>\n",
       "      <td>2023-05-16 22:45:00</td>\n",
       "      <td>Claremont</td>\n",
       "      <td>CA</td>\n",
       "      <td>USA</td>\n",
       "      <td>Light</td>\n",
       "      <td>15 minutes</td>\n",
       "      <td>Hovering and darting blinking lights at about ...</td>\n",
       "      <td>5/19/23</td>\n",
       "      <td>None</td>\n",
       "    </tr>\n",
       "    <tr>\n",
       "      <th>21</th>\n",
       "      <td>https://www.nuforc.org/webreports//reports/175...</td>\n",
       "      <td>2023-05-14 22:20:00</td>\n",
       "      <td>College city</td>\n",
       "      <td>CA</td>\n",
       "      <td>USA</td>\n",
       "      <td>Formation</td>\n",
       "      <td>Can’t explain w 25 charac</td>\n",
       "      <td>Clear night. About 10:20 pm..walking/we turn a...</td>\n",
       "      <td>5/19/23</td>\n",
       "      <td>None</td>\n",
       "    </tr>\n",
       "    <tr>\n",
       "      <th>77</th>\n",
       "      <td>https://www.nuforc.org/webreports//reports/175...</td>\n",
       "      <td>2023-05-08 19:49:00</td>\n",
       "      <td>West hills</td>\n",
       "      <td>CA</td>\n",
       "      <td>USA</td>\n",
       "      <td>Changing</td>\n",
       "      <td>5 minutes</td>\n",
       "      <td>3 black objects in a vertical line, spinning a...</td>\n",
       "      <td>5/19/23</td>\n",
       "      <td>Yes</td>\n",
       "    </tr>\n",
       "    <tr>\n",
       "      <th>87</th>\n",
       "      <td>https://www.nuforc.org/webreports//reports/175...</td>\n",
       "      <td>2023-05-07 01:00:00</td>\n",
       "      <td>La Mirada</td>\n",
       "      <td>CA</td>\n",
       "      <td>USA</td>\n",
       "      <td>Fireball</td>\n",
       "      <td>3 minutes</td>\n",
       "      <td>Fireball descends and flickers away into night...</td>\n",
       "      <td>5/19/23</td>\n",
       "      <td>None</td>\n",
       "    </tr>\n",
       "  </tbody>\n",
       "</table>\n",
       "</div>"
      ],
      "text/plain": [
       "                                                 link                data  \\\n",
       "6   https://www.nuforc.org/webreports//reports/175... 2023-05-17 15:30:00   \n",
       "9   https://www.nuforc.org/webreports//reports/175... 2023-05-16 22:45:00   \n",
       "21  https://www.nuforc.org/webreports//reports/175... 2023-05-14 22:20:00   \n",
       "77  https://www.nuforc.org/webreports//reports/175... 2023-05-08 19:49:00   \n",
       "87  https://www.nuforc.org/webreports//reports/175... 2023-05-07 01:00:00   \n",
       "\n",
       "           cidade estado pais      forma                    duracao  \\\n",
       "6   Santa Barbara     CA  USA      Other               2 min 23 sec   \n",
       "9       Claremont     CA  USA      Light                 15 minutes   \n",
       "21   College city     CA  USA  Formation  Can’t explain w 25 charac   \n",
       "77     West hills     CA  USA   Changing                  5 minutes   \n",
       "87      La Mirada     CA  USA   Fireball                  3 minutes   \n",
       "\n",
       "                                               relato  postado imagens  \n",
       "6   1 Rotation ~ 1 sec, Wobbling. Square but thinn...  5/19/23     Yes  \n",
       "9   Hovering and darting blinking lights at about ...  5/19/23    None  \n",
       "21  Clear night. About 10:20 pm..walking/we turn a...  5/19/23    None  \n",
       "77  3 black objects in a vertical line, spinning a...  5/19/23     Yes  \n",
       "87  Fireball descends and flickers away into night...  5/19/23    None  "
      ]
     },
     "execution_count": 21,
     "metadata": {},
     "output_type": "execute_result"
    }
   ],
   "source": [
    "california.head()"
   ]
  },
  {
   "cell_type": "markdown",
   "metadata": {},
   "source": [
    "### Extraindo a hora de cada ocorrência e adicionando em uma nova coluna"
   ]
  },
  {
   "cell_type": "code",
   "execution_count": 22,
   "metadata": {
    "ExecuteTime": {
     "end_time": "2023-07-06T13:42:00.922612031Z",
     "start_time": "2023-07-06T13:42:00.917494715Z"
    }
   },
   "outputs": [],
   "source": [
    "california['hora'] = california['data'].dt.hour"
   ]
  },
  {
   "cell_type": "markdown",
   "metadata": {},
   "source": [
    "### Plotando um <code>histograma</code> para examinar a distribuição de ocorrências"
   ]
  },
  {
   "cell_type": "code",
   "execution_count": 75,
   "metadata": {
    "ExecuteTime": {
     "end_time": "2023-07-06T13:42:04.028761396Z",
     "start_time": "2023-07-06T13:42:03.880992977Z"
    }
   },
   "outputs": [
    {
     "data": {
      "image/png": "[encoded data removed]",
      "text/plain": [
       "<Figure size 640x480 with 1 Axes>"
      ]
     },
     "metadata": {},
     "output_type": "display_data"
    }
   ],
   "source": [
    "hora_hist = california['hora'].plot.hist(bins=24, grid=True)\n",
    "plt.xticks(range(california['hora'].min(), california['hora'].max()+1, 1))\n",
    "plt.show()"
   ]
  },
  {
   "cell_type": "markdown",
   "metadata": {},
   "source": [
    "# Desafio"
   ]
  },
  {
   "cell_type": "markdown",
   "metadata": {},
   "source": [
    "### Quais os 5 formatos de OVNI mais comuns nos relatos?"
   ]
  },
  {
   "cell_type": "code",
   "execution_count": 24,
   "metadata": {},
   "outputs": [],
   "source": [
    "# CODE"
   ]
  },
  {
   "cell_type": "markdown",
   "metadata": {},
   "source": [
    "### Qual o horário mais difícil para avistarmos um OVNI em forma de Charuto?"
   ]
  },
  {
   "cell_type": "code",
   "execution_count": 25,
   "metadata": {
    "ExecuteTime": {
     "end_time": "2023-07-06T13:59:54.124405259Z",
     "start_time": "2023-07-06T13:59:54.113717191Z"
    }
   },
   "outputs": [],
   "source": [
    "# CODE"
   ]
  },
  {
   "cell_type": "markdown",
   "metadata": {
    "collapsed": false,
    "jupyter": {
     "outputs_hidden": false
    }
   },
   "source": [
    "# Wordcloud\n"
   ]
  },
  {
   "cell_type": "code",
   "execution_count": 50,
   "metadata": {
    "ExecuteTime": {
     "end_time": "2023-07-06T14:00:42.318742388Z",
     "start_time": "2023-07-06T14:00:34.370414543Z"
    },
    "collapsed": false,
    "jupyter": {
     "outputs_hidden": false
    }
   },
   "outputs": [
    {
     "data": {
      "image/png": "[encoded data removed]",
      "text/plain": [
       "<Figure size 640x480 with 1 Axes>"
      ]
     },
     "metadata": {},
     "output_type": "display_data"
    }
   ],
   "source": [
    "from wordcloud import WordCloud, STOPWORDS\n",
    "\n",
    "# dropping nill\n",
    "relatos = df.relato.dropna()\n",
    "\n",
    "# combining summary\n",
    "text = \" \".join(review for review in relatos)\n",
    "\n",
    "# Create stopword list:\n",
    "stopwords = set(STOPWORDS)\n",
    "stopwords.update([\"saw\", \"looked\", \"nuforc\", \"seen\", \"disappeared\", \"hovering\"])\n",
    "\n",
    "# Generate a word cloud image\n",
    "wordcloud = WordCloud(stopwords=stopwords, background_color=\"black\").generate(text)\n",
    "\n",
    "# Display the generated image:\n",
    "# the matplotlib way:\n",
    "plt.imshow(wordcloud, interpolation='bilinear')\n",
    "plt.axis(\"off\")\n",
    "plt.show()"
   ]
  },
  {
   "cell_type": "code",
   "execution_count": 27,
   "metadata": {},
   "outputs": [
    {
     "data": {
      "text/html": [
       "<div>\n",
       "<style scoped>\n",
       "    .dataframe tbody tr th:only-of-type {\n",
       "        vertical-align: middle;\n",
       "    }\n",
       "\n",
       "    .dataframe tbody tr th {\n",
       "        vertical-align: top;\n",
       "    }\n",
       "\n",
       "    .dataframe thead th {\n",
       "        text-align: right;\n",
       "    }\n",
       "</style>\n",
       "<table border=\"1\" class=\"dataframe\">\n",
       "  <thead>\n",
       "    <tr style=\"text-align: right;\">\n",
       "      <th></th>\n",
       "      <th>link</th>\n",
       "      <th>data</th>\n",
       "      <th>cidade</th>\n",
       "      <th>estado</th>\n",
       "      <th>pais</th>\n",
       "      <th>forma</th>\n",
       "      <th>duracao</th>\n",
       "      <th>relato</th>\n",
       "      <th>postado</th>\n",
       "      <th>imagens</th>\n",
       "    </tr>\n",
       "  </thead>\n",
       "  <tbody>\n",
       "    <tr>\n",
       "      <th>0</th>\n",
       "      <td>https://www.nuforc.org/webreports//reports/175...</td>\n",
       "      <td>2023-05-19 01:49:00</td>\n",
       "      <td>Harrisburg East of I5</td>\n",
       "      <td>OR</td>\n",
       "      <td>USA</td>\n",
       "      <td>Light</td>\n",
       "      <td>Approx. 3-4 min.</td>\n",
       "      <td>9 lights in straight line</td>\n",
       "      <td>5/19/23</td>\n",
       "      <td>None</td>\n",
       "    </tr>\n",
       "    <tr>\n",
       "      <th>1</th>\n",
       "      <td>https://www.nuforc.org/webreports//reports/175...</td>\n",
       "      <td>2023-05-18 19:40:00</td>\n",
       "      <td>Kippens</td>\n",
       "      <td>NF</td>\n",
       "      <td>Canada</td>\n",
       "      <td>Circle</td>\n",
       "      <td>5 minutes</td>\n",
       "      <td>Looked out window and saw the sun catching on ...</td>\n",
       "      <td>5/19/23</td>\n",
       "      <td>Yes</td>\n",
       "    </tr>\n",
       "    <tr>\n",
       "      <th>2</th>\n",
       "      <td>https://www.nuforc.org/webreports//reports/175...</td>\n",
       "      <td>2023-05-18 13:27:00</td>\n",
       "      <td>Hurricane</td>\n",
       "      <td>UT</td>\n",
       "      <td>USA</td>\n",
       "      <td>Cigar</td>\n",
       "      <td>10 minutes</td>\n",
       "      <td>Saw what looked like a long cigar shaped objec...</td>\n",
       "      <td>5/19/23</td>\n",
       "      <td>None</td>\n",
       "    </tr>\n",
       "    <tr>\n",
       "      <th>3</th>\n",
       "      <td>https://www.nuforc.org/webreports//reports/175...</td>\n",
       "      <td>2023-05-17 23:20:00</td>\n",
       "      <td>Sharpsville</td>\n",
       "      <td>IN</td>\n",
       "      <td>USA</td>\n",
       "      <td>Oval</td>\n",
       "      <td>1 hour</td>\n",
       "      <td>Oval like object over town no brightness</td>\n",
       "      <td>5/19/23</td>\n",
       "      <td>None</td>\n",
       "    </tr>\n",
       "    <tr>\n",
       "      <th>4</th>\n",
       "      <td>https://www.nuforc.org/webreports//reports/175...</td>\n",
       "      <td>2023-05-17 23:00:00</td>\n",
       "      <td>Tadepalligudem</td>\n",
       "      <td>Andhra Pradesh</td>\n",
       "      <td>India</td>\n",
       "      <td>Cube</td>\n",
       "      <td>5 minutes</td>\n",
       "      <td>We are watching the night sky suddenly there i...</td>\n",
       "      <td>5/19/23</td>\n",
       "      <td>Yes</td>\n",
       "    </tr>\n",
       "    <tr>\n",
       "      <th>...</th>\n",
       "      <td>...</td>\n",
       "      <td>...</td>\n",
       "      <td>...</td>\n",
       "      <td>...</td>\n",
       "      <td>...</td>\n",
       "      <td>...</td>\n",
       "      <td>...</td>\n",
       "      <td>...</td>\n",
       "      <td>...</td>\n",
       "      <td>...</td>\n",
       "    </tr>\n",
       "    <tr>\n",
       "      <th>143280</th>\n",
       "      <td>https://www.nuforc.org/webreports//reports/154...</td>\n",
       "      <td>2020-04-01 10:00:00</td>\n",
       "      <td>Johnscreek</td>\n",
       "      <td>GA</td>\n",
       "      <td>USA</td>\n",
       "      <td>Circle</td>\n",
       "      <td>10</td>\n",
       "      <td>Glowing circular disc was spinning clock wise,...</td>\n",
       "      <td>5/15/20</td>\n",
       "      <td>None</td>\n",
       "    </tr>\n",
       "    <tr>\n",
       "      <th>143281</th>\n",
       "      <td>https://www.nuforc.org/webreports//reports/154...</td>\n",
       "      <td>2020-04-01 09:45:00</td>\n",
       "      <td>Woodbury</td>\n",
       "      <td>MN</td>\n",
       "      <td>USA</td>\n",
       "      <td>Sphere</td>\n",
       "      <td>1 minutes</td>\n",
       "      <td>I was looking out my window and saw a bright w...</td>\n",
       "      <td>6/25/20</td>\n",
       "      <td>None</td>\n",
       "    </tr>\n",
       "    <tr>\n",
       "      <th>143282</th>\n",
       "      <td>https://www.nuforc.org/webreports//reports/155...</td>\n",
       "      <td>2020-04-01 09:28:00</td>\n",
       "      <td>Nairobi (Kenya)</td>\n",
       "      <td>None</td>\n",
       "      <td>Kenya</td>\n",
       "      <td>Sphere</td>\n",
       "      <td>15-20 minutes</td>\n",
       "      <td>Shining sphere</td>\n",
       "      <td>6/25/20</td>\n",
       "      <td>None</td>\n",
       "    </tr>\n",
       "    <tr>\n",
       "      <th>143283</th>\n",
       "      <td>https://www.nuforc.org/webreports//reports/154...</td>\n",
       "      <td>2020-04-01 04:00:00</td>\n",
       "      <td>Anderson</td>\n",
       "      <td>SC</td>\n",
       "      <td>USA</td>\n",
       "      <td>Light</td>\n",
       "      <td>30+ minutes</td>\n",
       "      <td>2 lights appeared out of nowhere just down and...</td>\n",
       "      <td>6/25/20</td>\n",
       "      <td>None</td>\n",
       "    </tr>\n",
       "    <tr>\n",
       "      <th>143284</th>\n",
       "      <td>https://www.nuforc.org/webreports//reports/154...</td>\n",
       "      <td>2020-04-01 03:45:00</td>\n",
       "      <td>Petersham</td>\n",
       "      <td>MA</td>\n",
       "      <td>USA</td>\n",
       "      <td>Fireball</td>\n",
       "      <td>2+ minutes</td>\n",
       "      <td>Ok, this is NOT an April fools joke. At 3:45 t...</td>\n",
       "      <td>4/9/20</td>\n",
       "      <td>None</td>\n",
       "    </tr>\n",
       "  </tbody>\n",
       "</table>\n",
       "<p>143285 rows × 10 columns</p>\n",
       "</div>"
      ],
      "text/plain": [
       "                                                     link                data  \\\n",
       "0       https://www.nuforc.org/webreports//reports/175... 2023-05-19 01:49:00   \n",
       "1       https://www.nuforc.org/webreports//reports/175... 2023-05-18 19:40:00   \n",
       "2       https://www.nuforc.org/webreports//reports/175... 2023-05-18 13:27:00   \n",
       "3       https://www.nuforc.org/webreports//reports/175... 2023-05-17 23:20:00   \n",
       "4       https://www.nuforc.org/webreports//reports/175... 2023-05-17 23:00:00   \n",
       "...                                                   ...                 ...   \n",
       "143280  https://www.nuforc.org/webreports//reports/154... 2020-04-01 10:00:00   \n",
       "143281  https://www.nuforc.org/webreports//reports/154... 2020-04-01 09:45:00   \n",
       "143282  https://www.nuforc.org/webreports//reports/155... 2020-04-01 09:28:00   \n",
       "143283  https://www.nuforc.org/webreports//reports/154... 2020-04-01 04:00:00   \n",
       "143284  https://www.nuforc.org/webreports//reports/154... 2020-04-01 03:45:00   \n",
       "\n",
       "                       cidade          estado    pais     forma  \\\n",
       "0       Harrisburg East of I5              OR     USA     Light   \n",
       "1                     Kippens              NF  Canada    Circle   \n",
       "2                   Hurricane              UT     USA     Cigar   \n",
       "3                 Sharpsville              IN     USA      Oval   \n",
       "4              Tadepalligudem  Andhra Pradesh   India      Cube   \n",
       "...                       ...             ...     ...       ...   \n",
       "143280             Johnscreek              GA     USA    Circle   \n",
       "143281               Woodbury              MN     USA    Sphere   \n",
       "143282        Nairobi (Kenya)            None   Kenya    Sphere   \n",
       "143283               Anderson              SC     USA     Light   \n",
       "143284              Petersham              MA     USA  Fireball   \n",
       "\n",
       "                 duracao                                             relato  \\\n",
       "0       Approx. 3-4 min.                          9 lights in straight line   \n",
       "1              5 minutes  Looked out window and saw the sun catching on ...   \n",
       "2             10 minutes  Saw what looked like a long cigar shaped objec...   \n",
       "3                 1 hour           Oval like object over town no brightness   \n",
       "4              5 minutes  We are watching the night sky suddenly there i...   \n",
       "...                  ...                                                ...   \n",
       "143280                10  Glowing circular disc was spinning clock wise,...   \n",
       "143281         1 minutes  I was looking out my window and saw a bright w...   \n",
       "143282     15-20 minutes                                     Shining sphere   \n",
       "143283       30+ minutes  2 lights appeared out of nowhere just down and...   \n",
       "143284        2+ minutes  Ok, this is NOT an April fools joke. At 3:45 t...   \n",
       "\n",
       "        postado imagens  \n",
       "0       5/19/23    None  \n",
       "1       5/19/23     Yes  \n",
       "2       5/19/23    None  \n",
       "3       5/19/23    None  \n",
       "4       5/19/23     Yes  \n",
       "...         ...     ...  \n",
       "143280  5/15/20    None  \n",
       "143281  6/25/20    None  \n",
       "143282  6/25/20    None  \n",
       "143283  6/25/20    None  \n",
       "143284   4/9/20    None  \n",
       "\n",
       "[143285 rows x 10 columns]"
      ]
     },
     "execution_count": 27,
     "metadata": {},
     "output_type": "execute_result"
    }
   ],
   "source": [
    "df.query(\"forma != None & imagens != None \")"
   ]
  },
  {
   "cell_type": "code",
   "execution_count": 62,
   "metadata": {},
   "outputs": [],
   "source": [
    "\n",
    "filter_b = (df.forma != None) & (df.imagens != None)"
   ]
  },
  {
   "cell_type": "code",
   "execution_count": 63,
   "metadata": {},
   "outputs": [
    {
     "data": {
      "text/html": [
       "<div>\n",
       "<style scoped>\n",
       "    .dataframe tbody tr th:only-of-type {\n",
       "        vertical-align: middle;\n",
       "    }\n",
       "\n",
       "    .dataframe tbody tr th {\n",
       "        vertical-align: top;\n",
       "    }\n",
       "\n",
       "    .dataframe thead th {\n",
       "        text-align: right;\n",
       "    }\n",
       "</style>\n",
       "<table border=\"1\" class=\"dataframe\">\n",
       "  <thead>\n",
       "    <tr style=\"text-align: right;\">\n",
       "      <th></th>\n",
       "      <th>link</th>\n",
       "      <th>data</th>\n",
       "      <th>cidade</th>\n",
       "      <th>estado</th>\n",
       "      <th>pais</th>\n",
       "      <th>forma</th>\n",
       "      <th>duracao</th>\n",
       "      <th>relato</th>\n",
       "      <th>postado</th>\n",
       "      <th>imagens</th>\n",
       "    </tr>\n",
       "  </thead>\n",
       "  <tbody>\n",
       "    <tr>\n",
       "      <th>0</th>\n",
       "      <td>https://www.nuforc.org/webreports//reports/175...</td>\n",
       "      <td>2023-05-19 01:49:00</td>\n",
       "      <td>Harrisburg East of I5</td>\n",
       "      <td>OR</td>\n",
       "      <td>USA</td>\n",
       "      <td>Light</td>\n",
       "      <td>Approx. 3-4 min.</td>\n",
       "      <td>9 lights in straight line</td>\n",
       "      <td>5/19/23</td>\n",
       "      <td>None</td>\n",
       "    </tr>\n",
       "    <tr>\n",
       "      <th>1</th>\n",
       "      <td>https://www.nuforc.org/webreports//reports/175...</td>\n",
       "      <td>2023-05-18 19:40:00</td>\n",
       "      <td>Kippens</td>\n",
       "      <td>NF</td>\n",
       "      <td>Canada</td>\n",
       "      <td>Circle</td>\n",
       "      <td>5 minutes</td>\n",
       "      <td>Looked out window and saw the sun catching on ...</td>\n",
       "      <td>5/19/23</td>\n",
       "      <td>Yes</td>\n",
       "    </tr>\n",
       "    <tr>\n",
       "      <th>2</th>\n",
       "      <td>https://www.nuforc.org/webreports//reports/175...</td>\n",
       "      <td>2023-05-18 13:27:00</td>\n",
       "      <td>Hurricane</td>\n",
       "      <td>UT</td>\n",
       "      <td>USA</td>\n",
       "      <td>Cigar</td>\n",
       "      <td>10 minutes</td>\n",
       "      <td>Saw what looked like a long cigar shaped objec...</td>\n",
       "      <td>5/19/23</td>\n",
       "      <td>None</td>\n",
       "    </tr>\n",
       "    <tr>\n",
       "      <th>3</th>\n",
       "      <td>https://www.nuforc.org/webreports//reports/175...</td>\n",
       "      <td>2023-05-17 23:20:00</td>\n",
       "      <td>Sharpsville</td>\n",
       "      <td>IN</td>\n",
       "      <td>USA</td>\n",
       "      <td>Oval</td>\n",
       "      <td>1 hour</td>\n",
       "      <td>Oval like object over town no brightness</td>\n",
       "      <td>5/19/23</td>\n",
       "      <td>None</td>\n",
       "    </tr>\n",
       "    <tr>\n",
       "      <th>4</th>\n",
       "      <td>https://www.nuforc.org/webreports//reports/175...</td>\n",
       "      <td>2023-05-17 23:00:00</td>\n",
       "      <td>Tadepalligudem</td>\n",
       "      <td>Andhra Pradesh</td>\n",
       "      <td>India</td>\n",
       "      <td>Cube</td>\n",
       "      <td>5 minutes</td>\n",
       "      <td>We are watching the night sky suddenly there i...</td>\n",
       "      <td>5/19/23</td>\n",
       "      <td>Yes</td>\n",
       "    </tr>\n",
       "    <tr>\n",
       "      <th>...</th>\n",
       "      <td>...</td>\n",
       "      <td>...</td>\n",
       "      <td>...</td>\n",
       "      <td>...</td>\n",
       "      <td>...</td>\n",
       "      <td>...</td>\n",
       "      <td>...</td>\n",
       "      <td>...</td>\n",
       "      <td>...</td>\n",
       "      <td>...</td>\n",
       "    </tr>\n",
       "    <tr>\n",
       "      <th>143280</th>\n",
       "      <td>https://www.nuforc.org/webreports//reports/154...</td>\n",
       "      <td>2020-04-01 10:00:00</td>\n",
       "      <td>Johnscreek</td>\n",
       "      <td>GA</td>\n",
       "      <td>USA</td>\n",
       "      <td>Circle</td>\n",
       "      <td>10</td>\n",
       "      <td>Glowing circular disc was spinning clock wise,...</td>\n",
       "      <td>5/15/20</td>\n",
       "      <td>None</td>\n",
       "    </tr>\n",
       "    <tr>\n",
       "      <th>143281</th>\n",
       "      <td>https://www.nuforc.org/webreports//reports/154...</td>\n",
       "      <td>2020-04-01 09:45:00</td>\n",
       "      <td>Woodbury</td>\n",
       "      <td>MN</td>\n",
       "      <td>USA</td>\n",
       "      <td>Sphere</td>\n",
       "      <td>1 minutes</td>\n",
       "      <td>I was looking out my window and saw a bright w...</td>\n",
       "      <td>6/25/20</td>\n",
       "      <td>None</td>\n",
       "    </tr>\n",
       "    <tr>\n",
       "      <th>143282</th>\n",
       "      <td>https://www.nuforc.org/webreports//reports/155...</td>\n",
       "      <td>2020-04-01 09:28:00</td>\n",
       "      <td>Nairobi (Kenya)</td>\n",
       "      <td>None</td>\n",
       "      <td>Kenya</td>\n",
       "      <td>Sphere</td>\n",
       "      <td>15-20 minutes</td>\n",
       "      <td>Shining sphere</td>\n",
       "      <td>6/25/20</td>\n",
       "      <td>None</td>\n",
       "    </tr>\n",
       "    <tr>\n",
       "      <th>143283</th>\n",
       "      <td>https://www.nuforc.org/webreports//reports/154...</td>\n",
       "      <td>2020-04-01 04:00:00</td>\n",
       "      <td>Anderson</td>\n",
       "      <td>SC</td>\n",
       "      <td>USA</td>\n",
       "      <td>Light</td>\n",
       "      <td>30+ minutes</td>\n",
       "      <td>2 lights appeared out of nowhere just down and...</td>\n",
       "      <td>6/25/20</td>\n",
       "      <td>None</td>\n",
       "    </tr>\n",
       "    <tr>\n",
       "      <th>143284</th>\n",
       "      <td>https://www.nuforc.org/webreports//reports/154...</td>\n",
       "      <td>2020-04-01 03:45:00</td>\n",
       "      <td>Petersham</td>\n",
       "      <td>MA</td>\n",
       "      <td>USA</td>\n",
       "      <td>Fireball</td>\n",
       "      <td>2+ minutes</td>\n",
       "      <td>Ok, this is NOT an April fools joke. At 3:45 t...</td>\n",
       "      <td>4/9/20</td>\n",
       "      <td>None</td>\n",
       "    </tr>\n",
       "  </tbody>\n",
       "</table>\n",
       "<p>143285 rows × 10 columns</p>\n",
       "</div>"
      ],
      "text/plain": [
       "                                                     link                data  \\\n",
       "0       https://www.nuforc.org/webreports//reports/175... 2023-05-19 01:49:00   \n",
       "1       https://www.nuforc.org/webreports//reports/175... 2023-05-18 19:40:00   \n",
       "2       https://www.nuforc.org/webreports//reports/175... 2023-05-18 13:27:00   \n",
       "3       https://www.nuforc.org/webreports//reports/175... 2023-05-17 23:20:00   \n",
       "4       https://www.nuforc.org/webreports//reports/175... 2023-05-17 23:00:00   \n",
       "...                                                   ...                 ...   \n",
       "143280  https://www.nuforc.org/webreports//reports/154... 2020-04-01 10:00:00   \n",
       "143281  https://www.nuforc.org/webreports//reports/154... 2020-04-01 09:45:00   \n",
       "143282  https://www.nuforc.org/webreports//reports/155... 2020-04-01 09:28:00   \n",
       "143283  https://www.nuforc.org/webreports//reports/154... 2020-04-01 04:00:00   \n",
       "143284  https://www.nuforc.org/webreports//reports/154... 2020-04-01 03:45:00   \n",
       "\n",
       "                       cidade          estado    pais     forma  \\\n",
       "0       Harrisburg East of I5              OR     USA     Light   \n",
       "1                     Kippens              NF  Canada    Circle   \n",
       "2                   Hurricane              UT     USA     Cigar   \n",
       "3                 Sharpsville              IN     USA      Oval   \n",
       "4              Tadepalligudem  Andhra Pradesh   India      Cube   \n",
       "...                       ...             ...     ...       ...   \n",
       "143280             Johnscreek              GA     USA    Circle   \n",
       "143281               Woodbury              MN     USA    Sphere   \n",
       "143282        Nairobi (Kenya)            None   Kenya    Sphere   \n",
       "143283               Anderson              SC     USA     Light   \n",
       "143284              Petersham              MA     USA  Fireball   \n",
       "\n",
       "                 duracao                                             relato  \\\n",
       "0       Approx. 3-4 min.                          9 lights in straight line   \n",
       "1              5 minutes  Looked out window and saw the sun catching on ...   \n",
       "2             10 minutes  Saw what looked like a long cigar shaped objec...   \n",
       "3                 1 hour           Oval like object over town no brightness   \n",
       "4              5 minutes  We are watching the night sky suddenly there i...   \n",
       "...                  ...                                                ...   \n",
       "143280                10  Glowing circular disc was spinning clock wise,...   \n",
       "143281         1 minutes  I was looking out my window and saw a bright w...   \n",
       "143282     15-20 minutes                                     Shining sphere   \n",
       "143283       30+ minutes  2 lights appeared out of nowhere just down and...   \n",
       "143284        2+ minutes  Ok, this is NOT an April fools joke. At 3:45 t...   \n",
       "\n",
       "        postado imagens  \n",
       "0       5/19/23    None  \n",
       "1       5/19/23     Yes  \n",
       "2       5/19/23    None  \n",
       "3       5/19/23    None  \n",
       "4       5/19/23     Yes  \n",
       "...         ...     ...  \n",
       "143280  5/15/20    None  \n",
       "143281  6/25/20    None  \n",
       "143282  6/25/20    None  \n",
       "143283  6/25/20    None  \n",
       "143284   4/9/20    None  \n",
       "\n",
       "[143285 rows x 10 columns]"
      ]
     },
     "execution_count": 63,
     "metadata": {},
     "output_type": "execute_result"
    }
   ],
   "source": [
    "df[filter_b]"
   ]
  }
 ],
 "metadata": {
  "kernelspec": {
   "display_name": "Python 3 (ipykernel)",
   "language": "python",
   "name": "python3"
  },
  "language_info": {
   "codemirror_mode": {
    "name": "ipython",
    "version": 3
   },
   "file_extension": ".py",
   "mimetype": "text/x-python",
   "name": "python",
   "nbconvert_exporter": "python",
   "pygments_lexer": "ipython3",
   "version": "3.11.3"
  }
 },
 "nbformat": 4,
 "nbformat_minor": 4
}
