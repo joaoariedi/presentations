{
 "cells": [
  {
   "cell_type": "markdown",
   "metadata": {},
   "source": [
    "# Caçador de OVNIs"
   ]
  },
  {
   "cell_type": "markdown",
   "metadata": {},
   "source": [
    "Em que estado e horário é mais \"fácil\" de avistar um OVNI nos EUA?"
   ]
  },
  {
   "cell_type": "markdown",
   "metadata": {},
   "source": [
    "### Importando o que importa"
   ]
  },
  {
   "cell_type": "code",
   "execution_count": 2,
   "metadata": {},
   "outputs": [],
   "source": [
    "import pandas as pd\n",
    "import matplotlib.pyplot as plt\n",
    "\n",
    "import warnings\n",
    "warnings.simplefilter(action='ignore')"
   ]
  },
  {
   "cell_type": "markdown",
   "metadata": {},
   "source": [
    "### Lendo o arquivo com todas as ocorrências"
   ]
  },
  {
   "cell_type": "code",
   "execution_count": 3,
   "metadata": {
    "ExecuteTime": {
     "end_time": "2023-07-06T13:01:38.144287209Z",
     "start_time": "2023-07-06T13:01:16.133551293Z"
    }
   },
   "outputs": [],
   "source": [
    "df = pd.read_json('https://raw.githubusercontent.com/joaoariedi/presentations/master/Ovnis%20Hunter/ovnis_hunter/ovins_data.json')"
   ]
  },
  {
   "cell_type": "markdown",
   "metadata": {},
   "source": [
    "### Visualizando uma amostra dos dados"
   ]
  },
  {
   "cell_type": "code",
   "execution_count": 4,
   "metadata": {
    "ExecuteTime": {
     "end_time": "2023-07-06T13:01:41.125853853Z",
     "start_time": "2023-07-06T13:01:41.088797109Z"
    }
   },
   "outputs": [
    {
     "data": {
      "text/plain": "                 date                   city           state  country   shape  \\\n0 2023-05-19 01:49:00  Harrisburg East of I5              OR      NaN   Light   \n1 2023-05-18 19:40:00                Kippens              NF      NaN  Circle   \n2 2023-05-18 13:27:00              Hurricane              UT      NaN   Cigar   \n3 2023-05-17 23:20:00            Sharpsville              IN      NaN    Oval   \n4 2023-05-17 23:00:00         Tadepalligudem  Andhra Pradesh      NaN    Cube   \n\n           duration                                            summary  \\\n0  Approx. 3-4 min.                          9 lights in straight line   \n1         5 minutes  Looked out window and saw the sun catching on ...   \n2        10 minutes  Saw what looked like a long cigar shaped objec...   \n3            1 hour           Oval like object over town no brightness   \n4         5 minutes  We are watching the night sky suddenly there i...   \n\n    posted images  \n0  5/19/23   None  \n1  5/19/23    Yes  \n2  5/19/23   None  \n3  5/19/23   None  \n4  5/19/23    Yes  ",
      "text/html": "<div>\n<style scoped>\n    .dataframe tbody tr th:only-of-type {\n        vertical-align: middle;\n    }\n\n    .dataframe tbody tr th {\n        vertical-align: top;\n    }\n\n    .dataframe thead th {\n        text-align: right;\n    }\n</style>\n<table border=\"1\" class=\"dataframe\">\n  <thead>\n    <tr style=\"text-align: right;\">\n      <th></th>\n      <th>date</th>\n      <th>city</th>\n      <th>state</th>\n      <th>country</th>\n      <th>shape</th>\n      <th>duration</th>\n      <th>summary</th>\n      <th>posted</th>\n      <th>images</th>\n    </tr>\n  </thead>\n  <tbody>\n    <tr>\n      <th>0</th>\n      <td>2023-05-19 01:49:00</td>\n      <td>Harrisburg East of I5</td>\n      <td>OR</td>\n      <td>NaN</td>\n      <td>Light</td>\n      <td>Approx. 3-4 min.</td>\n      <td>9 lights in straight line</td>\n      <td>5/19/23</td>\n      <td>None</td>\n    </tr>\n    <tr>\n      <th>1</th>\n      <td>2023-05-18 19:40:00</td>\n      <td>Kippens</td>\n      <td>NF</td>\n      <td>NaN</td>\n      <td>Circle</td>\n      <td>5 minutes</td>\n      <td>Looked out window and saw the sun catching on ...</td>\n      <td>5/19/23</td>\n      <td>Yes</td>\n    </tr>\n    <tr>\n      <th>2</th>\n      <td>2023-05-18 13:27:00</td>\n      <td>Hurricane</td>\n      <td>UT</td>\n      <td>NaN</td>\n      <td>Cigar</td>\n      <td>10 minutes</td>\n      <td>Saw what looked like a long cigar shaped objec...</td>\n      <td>5/19/23</td>\n      <td>None</td>\n    </tr>\n    <tr>\n      <th>3</th>\n      <td>2023-05-17 23:20:00</td>\n      <td>Sharpsville</td>\n      <td>IN</td>\n      <td>NaN</td>\n      <td>Oval</td>\n      <td>1 hour</td>\n      <td>Oval like object over town no brightness</td>\n      <td>5/19/23</td>\n      <td>None</td>\n    </tr>\n    <tr>\n      <th>4</th>\n      <td>2023-05-17 23:00:00</td>\n      <td>Tadepalligudem</td>\n      <td>Andhra Pradesh</td>\n      <td>NaN</td>\n      <td>Cube</td>\n      <td>5 minutes</td>\n      <td>We are watching the night sky suddenly there i...</td>\n      <td>5/19/23</td>\n      <td>Yes</td>\n    </tr>\n  </tbody>\n</table>\n</div>"
     },
     "execution_count": 4,
     "metadata": {},
     "output_type": "execute_result"
    }
   ],
   "source": [
    "df.head()"
   ]
  },
  {
   "cell_type": "markdown",
   "metadata": {},
   "source": [
    "### Renomeando as colunas"
   ]
  },
  {
   "cell_type": "code",
   "execution_count": 6,
   "metadata": {
    "ExecuteTime": {
     "end_time": "2023-07-06T13:02:39.761261831Z",
     "start_time": "2023-07-06T13:02:39.718762350Z"
    }
   },
   "outputs": [
    {
     "data": {
      "text/plain": "                 data                 cidade          estado  pais   forma  \\\n0 2023-05-19 01:49:00  Harrisburg East of I5              OR   NaN   Light   \n1 2023-05-18 19:40:00                Kippens              NF   NaN  Circle   \n2 2023-05-18 13:27:00              Hurricane              UT   NaN   Cigar   \n3 2023-05-17 23:20:00            Sharpsville              IN   NaN    Oval   \n4 2023-05-17 23:00:00         Tadepalligudem  Andhra Pradesh   NaN    Cube   \n\n            duração                                             relato  \\\n0  Approx. 3-4 min.                          9 lights in straight line   \n1         5 minutes  Looked out window and saw the sun catching on ...   \n2        10 minutes  Saw what looked like a long cigar shaped objec...   \n3            1 hour           Oval like object over town no brightness   \n4         5 minutes  We are watching the night sky suddenly there i...   \n\n   postado imagens  \n0  5/19/23    None  \n1  5/19/23     Yes  \n2  5/19/23    None  \n3  5/19/23    None  \n4  5/19/23     Yes  ",
      "text/html": "<div>\n<style scoped>\n    .dataframe tbody tr th:only-of-type {\n        vertical-align: middle;\n    }\n\n    .dataframe tbody tr th {\n        vertical-align: top;\n    }\n\n    .dataframe thead th {\n        text-align: right;\n    }\n</style>\n<table border=\"1\" class=\"dataframe\">\n  <thead>\n    <tr style=\"text-align: right;\">\n      <th></th>\n      <th>data</th>\n      <th>cidade</th>\n      <th>estado</th>\n      <th>pais</th>\n      <th>forma</th>\n      <th>duração</th>\n      <th>relato</th>\n      <th>postado</th>\n      <th>imagens</th>\n    </tr>\n  </thead>\n  <tbody>\n    <tr>\n      <th>0</th>\n      <td>2023-05-19 01:49:00</td>\n      <td>Harrisburg East of I5</td>\n      <td>OR</td>\n      <td>NaN</td>\n      <td>Light</td>\n      <td>Approx. 3-4 min.</td>\n      <td>9 lights in straight line</td>\n      <td>5/19/23</td>\n      <td>None</td>\n    </tr>\n    <tr>\n      <th>1</th>\n      <td>2023-05-18 19:40:00</td>\n      <td>Kippens</td>\n      <td>NF</td>\n      <td>NaN</td>\n      <td>Circle</td>\n      <td>5 minutes</td>\n      <td>Looked out window and saw the sun catching on ...</td>\n      <td>5/19/23</td>\n      <td>Yes</td>\n    </tr>\n    <tr>\n      <th>2</th>\n      <td>2023-05-18 13:27:00</td>\n      <td>Hurricane</td>\n      <td>UT</td>\n      <td>NaN</td>\n      <td>Cigar</td>\n      <td>10 minutes</td>\n      <td>Saw what looked like a long cigar shaped objec...</td>\n      <td>5/19/23</td>\n      <td>None</td>\n    </tr>\n    <tr>\n      <th>3</th>\n      <td>2023-05-17 23:20:00</td>\n      <td>Sharpsville</td>\n      <td>IN</td>\n      <td>NaN</td>\n      <td>Oval</td>\n      <td>1 hour</td>\n      <td>Oval like object over town no brightness</td>\n      <td>5/19/23</td>\n      <td>None</td>\n    </tr>\n    <tr>\n      <th>4</th>\n      <td>2023-05-17 23:00:00</td>\n      <td>Tadepalligudem</td>\n      <td>Andhra Pradesh</td>\n      <td>NaN</td>\n      <td>Cube</td>\n      <td>5 minutes</td>\n      <td>We are watching the night sky suddenly there i...</td>\n      <td>5/19/23</td>\n      <td>Yes</td>\n    </tr>\n  </tbody>\n</table>\n</div>"
     },
     "execution_count": 6,
     "metadata": {},
     "output_type": "execute_result"
    }
   ],
   "source": [
    "df.columns = ['data', 'cidade', 'estado', 'pais', 'forma', 'duração', 'relato', 'postado', 'imagens']\n",
    "df.head()"
   ]
  },
  {
   "cell_type": "code",
   "execution_count": 7,
   "outputs": [
    {
     "data": {
      "text/plain": "                      data           cidade estado  pais     forma  \\\n143280 2020-04-01 10:00:00       Johnscreek     GA   NaN    Circle   \n143281 2020-04-01 09:45:00         Woodbury     MN   NaN    Sphere   \n143282 2020-04-01 09:28:00  Nairobi (Kenya)   None   NaN    Sphere   \n143283 2020-04-01 04:00:00         Anderson     SC   NaN     Light   \n143284 2020-04-01 03:45:00        Petersham     MA   NaN  Fireball   \n\n              duração                                             relato  \\\n143280             10  Glowing circular disc was spinning clock wise,...   \n143281      1 minutes  I was looking out my window and saw a bright w...   \n143282  15-20 minutes                                     Shining sphere   \n143283    30+ minutes  2 lights appeared out of nowhere just down and...   \n143284     2+ minutes  Ok, this is NOT an April fools joke. At 3:45 t...   \n\n        postado imagens  \n143280  5/15/20    None  \n143281  6/25/20    None  \n143282  6/25/20    None  \n143283  6/25/20    None  \n143284   4/9/20    None  ",
      "text/html": "<div>\n<style scoped>\n    .dataframe tbody tr th:only-of-type {\n        vertical-align: middle;\n    }\n\n    .dataframe tbody tr th {\n        vertical-align: top;\n    }\n\n    .dataframe thead th {\n        text-align: right;\n    }\n</style>\n<table border=\"1\" class=\"dataframe\">\n  <thead>\n    <tr style=\"text-align: right;\">\n      <th></th>\n      <th>data</th>\n      <th>cidade</th>\n      <th>estado</th>\n      <th>pais</th>\n      <th>forma</th>\n      <th>duração</th>\n      <th>relato</th>\n      <th>postado</th>\n      <th>imagens</th>\n    </tr>\n  </thead>\n  <tbody>\n    <tr>\n      <th>143280</th>\n      <td>2020-04-01 10:00:00</td>\n      <td>Johnscreek</td>\n      <td>GA</td>\n      <td>NaN</td>\n      <td>Circle</td>\n      <td>10</td>\n      <td>Glowing circular disc was spinning clock wise,...</td>\n      <td>5/15/20</td>\n      <td>None</td>\n    </tr>\n    <tr>\n      <th>143281</th>\n      <td>2020-04-01 09:45:00</td>\n      <td>Woodbury</td>\n      <td>MN</td>\n      <td>NaN</td>\n      <td>Sphere</td>\n      <td>1 minutes</td>\n      <td>I was looking out my window and saw a bright w...</td>\n      <td>6/25/20</td>\n      <td>None</td>\n    </tr>\n    <tr>\n      <th>143282</th>\n      <td>2020-04-01 09:28:00</td>\n      <td>Nairobi (Kenya)</td>\n      <td>None</td>\n      <td>NaN</td>\n      <td>Sphere</td>\n      <td>15-20 minutes</td>\n      <td>Shining sphere</td>\n      <td>6/25/20</td>\n      <td>None</td>\n    </tr>\n    <tr>\n      <th>143283</th>\n      <td>2020-04-01 04:00:00</td>\n      <td>Anderson</td>\n      <td>SC</td>\n      <td>NaN</td>\n      <td>Light</td>\n      <td>30+ minutes</td>\n      <td>2 lights appeared out of nowhere just down and...</td>\n      <td>6/25/20</td>\n      <td>None</td>\n    </tr>\n    <tr>\n      <th>143284</th>\n      <td>2020-04-01 03:45:00</td>\n      <td>Petersham</td>\n      <td>MA</td>\n      <td>NaN</td>\n      <td>Fireball</td>\n      <td>2+ minutes</td>\n      <td>Ok, this is NOT an April fools joke. At 3:45 t...</td>\n      <td>4/9/20</td>\n      <td>None</td>\n    </tr>\n  </tbody>\n</table>\n</div>"
     },
     "execution_count": 7,
     "metadata": {},
     "output_type": "execute_result"
    }
   ],
   "source": [
    "df.tail()"
   ],
   "metadata": {
    "collapsed": false,
    "ExecuteTime": {
     "end_time": "2023-07-06T13:03:05.772826009Z",
     "start_time": "2023-07-06T13:03:05.767454504Z"
    }
   }
  },
  {
   "cell_type": "markdown",
   "metadata": {},
   "source": [
    "### Convertendo uma coluna com datas de <code>string</code> para <code>datetime</code>"
   ]
  },
  {
   "cell_type": "code",
   "execution_count": null,
   "metadata": {},
   "outputs": [],
   "source": [
    "df['ocorrido'] = pd.to_datetime(df['ocorrido'])"
   ]
  },
  {
   "cell_type": "code",
   "execution_count": null,
   "metadata": {},
   "outputs": [],
   "source": [
    "df.head()"
   ]
  },
  {
   "cell_type": "markdown",
   "metadata": {},
   "source": [
    "### Limpando os relatos com dados faltantes"
   ]
  },
  {
   "cell_type": "code",
   "execution_count": null,
   "metadata": {},
   "outputs": [],
   "source": [
    "selector = pd.isnull(df['forma'])\n",
    "df[selector].head()"
   ]
  },
  {
   "cell_type": "code",
   "execution_count": null,
   "metadata": {},
   "outputs": [],
   "source": [
    "df_dropped = df.dropna()"
   ]
  },
  {
   "cell_type": "code",
   "execution_count": null,
   "metadata": {},
   "outputs": [],
   "source": [
    "df_dropped.head()"
   ]
  },
  {
   "cell_type": "markdown",
   "metadata": {},
   "source": [
    "### Agrupando os resultados por estado"
   ]
  },
  {
   "cell_type": "code",
   "execution_count": null,
   "metadata": {},
   "outputs": [],
   "source": [
    "ocorrencias_por_estado = df_dropped.groupby('estado')['ocorrido'].count()"
   ]
  },
  {
   "cell_type": "code",
   "execution_count": null,
   "metadata": {},
   "outputs": [],
   "source": [
    "ocorrencias_por_estado.sort_values(ascending=False, inplace=True)"
   ]
  },
  {
   "cell_type": "markdown",
   "metadata": {},
   "source": [
    "### Plotando os 10 estados com mais ocorrências"
   ]
  },
  {
   "cell_type": "code",
   "execution_count": null,
   "metadata": {},
   "outputs": [],
   "source": [
    "ocorrencias_por_estado.head(10).plot.bar(rot=0)"
   ]
  },
  {
   "cell_type": "markdown",
   "metadata": {},
   "source": [
    "### Extraindo um <code>subset</code> com somente com os dados da Califórnia"
   ]
  },
  {
   "cell_type": "code",
   "execution_count": null,
   "metadata": {},
   "outputs": [],
   "source": [
    "selector = df_dropped['estado'] == \"CA\""
   ]
  },
  {
   "cell_type": "code",
   "execution_count": null,
   "metadata": {},
   "outputs": [],
   "source": [
    "california = df_dropped[selector]"
   ]
  },
  {
   "cell_type": "code",
   "execution_count": null,
   "metadata": {},
   "outputs": [],
   "source": [
    "california.head()"
   ]
  },
  {
   "cell_type": "markdown",
   "metadata": {},
   "source": [
    "### Extraindo a hora de cada ocorrência e adicionando em uma nova coluna"
   ]
  },
  {
   "cell_type": "code",
   "execution_count": null,
   "metadata": {},
   "outputs": [],
   "source": [
    "california['hora'] = california['ocorrido'].dt.hour"
   ]
  },
  {
   "cell_type": "markdown",
   "metadata": {},
   "source": [
    "### Plotando um <code>histograma</code> para examinar a distribuição de ocorrências"
   ]
  },
  {
   "cell_type": "code",
   "execution_count": null,
   "metadata": {},
   "outputs": [],
   "source": [
    "hora_hist = california['hora'].plot.hist(bins=12, grid=True)\n",
    "plt.xticks(range(california['hora'].min(), california['hora'].max()+1, 2))\n",
    "plt.show()"
   ]
  },
  {
   "cell_type": "markdown",
   "metadata": {},
   "source": [
    "# Desafio"
   ]
  },
  {
   "cell_type": "markdown",
   "metadata": {},
   "source": [
    "### Quais os 5 formatos de OVNI mais comuns nos relatos?"
   ]
  },
  {
   "cell_type": "code",
   "execution_count": null,
   "metadata": {},
   "outputs": [],
   "source": [
    "# CODE"
   ]
  },
  {
   "cell_type": "markdown",
   "metadata": {},
   "source": [
    "### Qual o horário mais difícil para avistarmos um OVNI em forma de Charuto?"
   ]
  },
  {
   "cell_type": "code",
   "execution_count": null,
   "metadata": {},
   "outputs": [],
   "source": [
    "# CODE"
   ]
  }
 ],
 "metadata": {
  "kernelspec": {
   "display_name": "Python 3",
   "language": "python",
   "name": "python3"
  },
  "language_info": {
   "codemirror_mode": {
    "name": "ipython",
    "version": 3
   },
   "file_extension": ".py",
   "mimetype": "text/x-python",
   "name": "python",
   "nbconvert_exporter": "python",
   "pygments_lexer": "ipython3",
   "version": "3.7.4"
  }
 },
 "nbformat": 4,
 "nbformat_minor": 4
}
